{
 "cells": [
  {
   "cell_type": "code",
   "execution_count": 1,
   "id": "cd68d815",
   "metadata": {},
   "outputs": [],
   "source": [
    "%load_ext autoreload \n",
    "%autoreload 2"
   ]
  },
  {
   "cell_type": "code",
   "execution_count": 2,
   "id": "ed4d93fe",
   "metadata": {},
   "outputs": [],
   "source": [
    "import pandas as pd\n",
    "con_data = pd.read_csv('./data/con_data.csv').iloc[:, 1:]"
   ]
  },
  {
   "cell_type": "code",
   "execution_count": 3,
   "id": "5659caa8",
   "metadata": {},
   "outputs": [],
   "source": [
    "data = con_data.dropna(axis = 0).copy()"
   ]
  },
  {
   "cell_type": "code",
   "execution_count": 4,
   "id": "3474a36f",
   "metadata": {},
   "outputs": [],
   "source": [
    "data['cls_label'] = data.apply(lambda x: 1 if x['label'] >= 30 else 0, axis = 1)"
   ]
  },
  {
   "cell_type": "code",
   "execution_count": 5,
   "id": "d647d420",
   "metadata": {},
   "outputs": [],
   "source": [
    "data1 = data.drop(['label'], axis = 1)\n",
    "data2 = data1.drop(['cls_label'], axis=1)"
   ]
  },
  {
   "cell_type": "code",
   "execution_count": 6,
   "id": "c3c5523e",
   "metadata": {},
   "outputs": [
    {
     "name": "stdout",
     "output_type": "stream",
     "text": [
      "['text_amount', 'keyword_mentioned', 'commentNum', 'keyword_title_data', 'link_num_data', 'player_num_data', 'img_num_data', 'past_date', 'five_day_visitor']\n"
     ]
    }
   ],
   "source": [
    "data_txt = []\n",
    "for i in data2.columns:\n",
    "    data_txt.append(i)\n",
    "print(data_txt)\n",
    "#print(data2.columns[0])"
   ]
  },
  {
   "cell_type": "code",
   "execution_count": 7,
   "id": "21223686",
   "metadata": {},
   "outputs": [],
   "source": [
    "X, y = data1.iloc[:, :-1], data1.iloc[:, -1]"
   ]
  },
  {
   "cell_type": "code",
   "execution_count": 8,
   "id": "4cd17b3e",
   "metadata": {},
   "outputs": [],
   "source": [
    "from collections import Counter\n",
    "import matplotlib.pyplot as plt\n",
    "\n",
    "def count_and_plot(y): \n",
    "    counter = Counter(y)\n",
    "    for k,v in counter.items():\n",
    "        print('Class=%d, n=%d (%.3f%%)' % (k, v, v / len(y) * 100))\n",
    "    plt.bar(counter.keys(), counter.values())\n",
    "    plt.show()"
   ]
  },
  {
   "cell_type": "code",
   "execution_count": 9,
   "id": "0f38ffdc",
   "metadata": {},
   "outputs": [
    {
     "name": "stdout",
     "output_type": "stream",
     "text": [
      "Class=0, n=5430 (50.000%)\n",
      "Class=1, n=5430 (50.000%)\n"
     ]
    },
    {
     "data": {
      "image/png": "[encoded data removed]",
      "text/plain": [
       "<Figure size 432x288 with 1 Axes>"
      ]
     },
     "metadata": {
      "needs_background": "light"
     },
     "output_type": "display_data"
    }
   ],
   "source": [
    "from imblearn.under_sampling import RandomUnderSampler\n",
    "X_resampled, y_resampled = RandomUnderSampler(random_state=0).fit_resample(X, y)\n",
    "count_and_plot(y_resampled)"
   ]
  },
  {
   "cell_type": "code",
   "execution_count": 10,
   "id": "485e5bb2",
   "metadata": {},
   "outputs": [],
   "source": [
    "from sklearn.model_selection import train_test_split\n",
    "\n",
    "X_train, X_test, y_train, y_test = train_test_split(X_resampled, y_resampled, random_state =42, test_size = 0.20)"
   ]
  },
  {
   "cell_type": "code",
   "execution_count": 15,
   "id": "47fd89e6",
   "metadata": {},
   "outputs": [
    {
     "data": {
      "text/plain": [
       "DecisionTreeClassifier(max_depth=3)"
      ]
     },
     "execution_count": 15,
     "metadata": {},
     "output_type": "execute_result"
    }
   ],
   "source": [
    "from sklearn.tree import DecisionTreeClassifier, plot_tree\n",
    "\n",
    "dtc = DecisionTreeClassifier(max_depth=3)\n",
    "dtc.fit(X_train, y_train)"
   ]
  },
  {
   "cell_type": "code",
   "execution_count": 16,
   "id": "2d9681c9",
   "metadata": {},
   "outputs": [
    {
     "name": "stdout",
     "output_type": "stream",
     "text": [
      "6 64\n",
      "7 79\n"
     ]
    },
    {
     "name": "stderr",
     "output_type": "stream",
     "text": [
      "C:\\Users\\yongjin\\Anaconda3\\envs\\capston\\lib\\site-packages\\sklearn\\base.py:445: UserWarning: X does not have valid feature names, but DecisionTreeClassifier was fitted with feature names\n",
      "  warnings.warn(\n"
     ]
    },
    {
     "data": {
      "image/svg+xml": [
       "<?xml version=\"1.0\" encoding=\"UTF-8\" standalone=\"no\"?>\n",
       "<!DOCTYPE svg PUBLIC \"-//W3C//DTD SVG 1.1//EN\"\n",
       " \"http://www.w3.org/Graphics/SVG/1.1/DTD/svg11.dtd\">\n",
       "<!-- Generated by graphviz version 2.49.3 (20211023.0002)\n",
       " -->\n",
       "<!-- Title: graphname Pages: 1 -->\n",
       "<svg width=\"684pt\" height=\"278pt\"\n",
       " viewBox=\"0.00 0.00 684.23 277.74\" xmlns=\"http://www.w3.org/2000/svg\" xmlns:xlink=\"http://www.w3.org/1999/xlink\">\n",
       "<g id=\"graph0\" class=\"graph\" transform=\"scale(1 1) rotate(0) translate(4 273.74)\">\n",
       "<title>graphname</title>\n",
       "<polygon fill=\"white\" stroke=\"transparent\" points=\"-4,4 -4,-273.74 680.23,-273.74 680.23,4 -4,4\"/>\n",
       "<!-- 0 -->\n",
       "<g id=\"node1\" class=\"node\">\n",
       "<title>0</title>\n",
       "<polygon fill=\"lightgrey\" stroke=\"black\" points=\"401.61,-269.74 300.61,-269.74 300.61,-233.74 401.61,-233.74 401.61,-269.74\"/>\n",
       "<text text-anchor=\"middle\" x=\"351.11\" y=\"-248.04\" font-family=\"Times New Roman,serif\" font-size=\"14.00\">past_date&lt;=32</text>\n",
       "</g>\n",
       "<!-- 1 -->\n",
       "<g id=\"node2\" class=\"node\">\n",
       "<title>1</title>\n",
       "<polygon fill=\"lightgrey\" stroke=\"black\" points=\"332.61,-197.74 203.61,-197.74 203.61,-161.74 332.61,-161.74 332.61,-197.74\"/>\n",
       "<text text-anchor=\"middle\" x=\"268.11\" y=\"-176.04\" font-family=\"Times New Roman,serif\" font-size=\"14.00\">text_amount&lt;=1186</text>\n",
       "</g>\n",
       "<!-- 0&#45;&#45;1 -->\n",
       "<g id=\"edge1\" class=\"edge\">\n",
       "<title>0&#45;&#45;1</title>\n",
       "<path fill=\"none\" stroke=\"red\" stroke-width=\"5\" d=\"M330.6,-233.44C317.73,-222.59 301.21,-208.66 288.39,-197.84\"/>\n",
       "</g>\n",
       "<!-- 8 -->\n",
       "<g id=\"node9\" class=\"node\">\n",
       "<title>8</title>\n",
       "<polygon fill=\"none\" stroke=\"black\" points=\"487.61,-197.74 380.61,-197.74 380.61,-161.74 487.61,-161.74 487.61,-197.74\"/>\n",
       "<text text-anchor=\"middle\" x=\"434.11\" y=\"-176.04\" font-family=\"Times New Roman,serif\" font-size=\"14.00\">past_date&lt;=752</text>\n",
       "</g>\n",
       "<!-- 0&#45;&#45;8 -->\n",
       "<g id=\"edge2\" class=\"edge\">\n",
       "<title>0&#45;&#45;8</title>\n",
       "<path fill=\"none\" stroke=\"black\" stroke-dasharray=\"1,5\" d=\"M371.63,-233.44C384.49,-222.59 401.01,-208.66 413.83,-197.84\"/>\n",
       "</g>\n",
       "<!-- 2 -->\n",
       "<g id=\"node3\" class=\"node\">\n",
       "<title>2</title>\n",
       "<polygon fill=\"none\" stroke=\"black\" points=\"172.11,-125.74 50.11,-125.74 50.11,-89.74 172.11,-89.74 172.11,-125.74\"/>\n",
       "<text text-anchor=\"middle\" x=\"111.11\" y=\"-104.04\" font-family=\"Times New Roman,serif\" font-size=\"14.00\">text_amount&lt;=569</text>\n",
       "</g>\n",
       "<!-- 1&#45;&#45;2 -->\n",
       "<g id=\"edge3\" class=\"edge\">\n",
       "<title>1&#45;&#45;2</title>\n",
       "<path fill=\"none\" stroke=\"black\" stroke-dasharray=\"1,5\" d=\"M229.71,-161.62C205.29,-150.73 173.79,-136.69 149.39,-125.81\"/>\n",
       "</g>\n",
       "<!-- 5 -->\n",
       "<g id=\"node6\" class=\"node\">\n",
       "<title>5</title>\n",
       "<polygon fill=\"lightgrey\" stroke=\"black\" points=\"343.11,-125.74 193.11,-125.74 193.11,-89.74 343.11,-89.74 343.11,-125.74\"/>\n",
       "<text text-anchor=\"middle\" x=\"268.11\" y=\"-104.04\" font-family=\"Times New Roman,serif\" font-size=\"14.00\">five_day_visitor&lt;=6880</text>\n",
       "</g>\n",
       "<!-- 1&#45;&#45;5 -->\n",
       "<g id=\"edge4\" class=\"edge\">\n",
       "<title>1&#45;&#45;5</title>\n",
       "<path fill=\"none\" stroke=\"red\" stroke-width=\"5\" d=\"M268.11,-161.44C268.11,-150.59 268.11,-136.66 268.11,-125.84\"/>\n",
       "</g>\n",
       "<!-- 3 -->\n",
       "<g id=\"node4\" class=\"node\">\n",
       "<title>3</title>\n",
       "<ellipse fill=\"none\" stroke=\"black\" cx=\"31.11\" cy=\"-26.87\" rx=\"31.23\" ry=\"26.74\"/>\n",
       "<text text-anchor=\"middle\" x=\"31.11\" y=\"-30.67\" font-family=\"Times New Roman,serif\" font-size=\"14.00\">30up</text>\n",
       "<text text-anchor=\"middle\" x=\"31.11\" y=\"-15.67\" font-family=\"Times New Roman,serif\" font-size=\"14.00\">80%</text>\n",
       "</g>\n",
       "<!-- 2&#45;&#45;3 -->\n",
       "<g id=\"edge5\" class=\"edge\">\n",
       "<title>2&#45;&#45;3</title>\n",
       "<path fill=\"none\" stroke=\"black\" stroke-dasharray=\"1,5\" d=\"M93.75,-89.63C81.25,-77.3 64.36,-60.64 51.26,-47.73\"/>\n",
       "</g>\n",
       "<!-- 4 -->\n",
       "<g id=\"node5\" class=\"node\">\n",
       "<title>4</title>\n",
       "<ellipse fill=\"none\" stroke=\"black\" cx=\"111.11\" cy=\"-26.87\" rx=\"31.23\" ry=\"26.74\"/>\n",
       "<text text-anchor=\"middle\" x=\"111.11\" y=\"-30.67\" font-family=\"Times New Roman,serif\" font-size=\"14.00\">30up</text>\n",
       "<text text-anchor=\"middle\" x=\"111.11\" y=\"-15.67\" font-family=\"Times New Roman,serif\" font-size=\"14.00\">51%</text>\n",
       "</g>\n",
       "<!-- 2&#45;&#45;4 -->\n",
       "<g id=\"edge6\" class=\"edge\">\n",
       "<title>2&#45;&#45;4</title>\n",
       "<path fill=\"none\" stroke=\"black\" stroke-dasharray=\"1,5\" d=\"M111.11,-89.63C111.11,-79.21 111.11,-65.69 111.11,-53.95\"/>\n",
       "</g>\n",
       "<!-- 6 -->\n",
       "<g id=\"node7\" class=\"node\">\n",
       "<title>6</title>\n",
       "<polygon fill=\"yellow\" stroke=\"black\" points=\"222.11,-45.87 160.11,-45.87 160.11,-7.87 222.11,-7.87 222.11,-45.87\"/>\n",
       "<text text-anchor=\"middle\" x=\"191.11\" y=\"-30.67\" font-family=\"Times New Roman,serif\" font-size=\"14.00\">30down</text>\n",
       "<text text-anchor=\"middle\" x=\"191.11\" y=\"-15.67\" font-family=\"Times New Roman,serif\" font-size=\"14.00\">64%</text>\n",
       "</g>\n",
       "<!-- 5&#45;&#45;6 -->\n",
       "<g id=\"edge7\" class=\"edge\">\n",
       "<title>5&#45;&#45;6</title>\n",
       "<path fill=\"none\" stroke=\"black\" stroke-dasharray=\"1,5\" d=\"M251.4,-89.63C238.84,-76.76 221.67,-59.17 208.86,-46.05\"/>\n",
       "</g>\n",
       "<!-- 7 -->\n",
       "<g id=\"node8\" class=\"node\">\n",
       "<title>7</title>\n",
       "<polygon fill=\"yellow\" stroke=\"black\" points=\"302.11,-45.87 240.11,-45.87 240.11,-7.87 302.11,-7.87 302.11,-45.87\"/>\n",
       "<text text-anchor=\"middle\" x=\"271.11\" y=\"-30.67\" font-family=\"Times New Roman,serif\" font-size=\"14.00\">30down</text>\n",
       "<text text-anchor=\"middle\" x=\"271.11\" y=\"-15.67\" font-family=\"Times New Roman,serif\" font-size=\"14.00\">79%</text>\n",
       "</g>\n",
       "<!-- 5&#45;&#45;7 -->\n",
       "<g id=\"edge8\" class=\"edge\">\n",
       "<title>5&#45;&#45;7</title>\n",
       "<path fill=\"none\" stroke=\"red\" stroke-width=\"5\" d=\"M263.09,-89.63C262.18,-76.76 262.82,-59.17 264.63,-46.05\"/>\n",
       "</g>\n",
       "<!-- 5&#45;&#45;7 -->\n",
       "<g id=\"edge15\" class=\"edge\">\n",
       "<title>5&#45;&#45;7</title>\n",
       "<path fill=\"none\" stroke=\"green\" stroke-width=\"5\" d=\"M274.44,-89.63C276.32,-76.76 277.03,-59.17 276.21,-46.05\"/>\n",
       "</g>\n",
       "<!-- 9 -->\n",
       "<g id=\"node10\" class=\"node\">\n",
       "<title>9</title>\n",
       "<polygon fill=\"none\" stroke=\"black\" points=\"507.11,-125.74 361.11,-125.74 361.11,-89.74 507.11,-89.74 507.11,-125.74\"/>\n",
       "<text text-anchor=\"middle\" x=\"434.11\" y=\"-104.04\" font-family=\"Times New Roman,serif\" font-size=\"14.00\">keyword_title_data&lt;=0</text>\n",
       "</g>\n",
       "<!-- 8&#45;&#45;9 -->\n",
       "<g id=\"edge9\" class=\"edge\">\n",
       "<title>8&#45;&#45;9</title>\n",
       "<path fill=\"none\" stroke=\"black\" stroke-dasharray=\"1,5\" d=\"M434.11,-161.44C434.11,-150.59 434.11,-136.66 434.11,-125.84\"/>\n",
       "</g>\n",
       "<!-- 12 -->\n",
       "<g id=\"node13\" class=\"node\">\n",
       "<title>12</title>\n",
       "<polygon fill=\"none\" stroke=\"black\" points=\"639.11,-125.74 525.11,-125.74 525.11,-89.74 639.11,-89.74 639.11,-125.74\"/>\n",
       "<text text-anchor=\"middle\" x=\"582.11\" y=\"-104.04\" font-family=\"Times New Roman,serif\" font-size=\"14.00\">past_date&lt;=1544</text>\n",
       "</g>\n",
       "<!-- 8&#45;&#45;12 -->\n",
       "<g id=\"edge10\" class=\"edge\">\n",
       "<title>8&#45;&#45;12</title>\n",
       "<path fill=\"none\" stroke=\"black\" stroke-dasharray=\"1,5\" d=\"M470.32,-161.62C493.34,-150.73 523.03,-136.69 546.03,-125.81\"/>\n",
       "</g>\n",
       "<!-- 10 -->\n",
       "<g id=\"node11\" class=\"node\">\n",
       "<title>10</title>\n",
       "<polygon fill=\"yellow\" stroke=\"black\" points=\"402.11,-45.87 340.11,-45.87 340.11,-7.87 402.11,-7.87 402.11,-45.87\"/>\n",
       "<text text-anchor=\"middle\" x=\"371.11\" y=\"-30.67\" font-family=\"Times New Roman,serif\" font-size=\"14.00\">30down</text>\n",
       "<text text-anchor=\"middle\" x=\"371.11\" y=\"-15.67\" font-family=\"Times New Roman,serif\" font-size=\"14.00\">56%</text>\n",
       "</g>\n",
       "<!-- 9&#45;&#45;10 -->\n",
       "<g id=\"edge11\" class=\"edge\">\n",
       "<title>9&#45;&#45;10</title>\n",
       "<path fill=\"none\" stroke=\"black\" stroke-dasharray=\"1,5\" d=\"M420.44,-89.63C410.16,-76.76 396.11,-59.17 385.63,-46.05\"/>\n",
       "</g>\n",
       "<!-- 11 -->\n",
       "<g id=\"node12\" class=\"node\">\n",
       "<title>11</title>\n",
       "<ellipse fill=\"none\" stroke=\"black\" cx=\"451.11\" cy=\"-26.87\" rx=\"31.23\" ry=\"26.74\"/>\n",
       "<text text-anchor=\"middle\" x=\"451.11\" y=\"-30.67\" font-family=\"Times New Roman,serif\" font-size=\"14.00\">30up</text>\n",
       "<text text-anchor=\"middle\" x=\"451.11\" y=\"-15.67\" font-family=\"Times New Roman,serif\" font-size=\"14.00\">59%</text>\n",
       "</g>\n",
       "<!-- 9&#45;&#45;11 -->\n",
       "<g id=\"edge12\" class=\"edge\">\n",
       "<title>9&#45;&#45;11</title>\n",
       "<path fill=\"none\" stroke=\"black\" stroke-dasharray=\"1,5\" d=\"M437.8,-89.63C440.09,-79.03 443.06,-65.21 445.62,-53.34\"/>\n",
       "</g>\n",
       "<!-- 13 -->\n",
       "<g id=\"node14\" class=\"node\">\n",
       "<title>13</title>\n",
       "<ellipse fill=\"none\" stroke=\"black\" cx=\"565.11\" cy=\"-26.87\" rx=\"31.23\" ry=\"26.74\"/>\n",
       "<text text-anchor=\"middle\" x=\"565.11\" y=\"-30.67\" font-family=\"Times New Roman,serif\" font-size=\"14.00\">30up</text>\n",
       "<text text-anchor=\"middle\" x=\"565.11\" y=\"-15.67\" font-family=\"Times New Roman,serif\" font-size=\"14.00\">78%</text>\n",
       "</g>\n",
       "<!-- 12&#45;&#45;13 -->\n",
       "<g id=\"edge13\" class=\"edge\">\n",
       "<title>12&#45;&#45;13</title>\n",
       "<path fill=\"none\" stroke=\"black\" stroke-dasharray=\"1,5\" d=\"M578.42,-89.63C576.14,-79.03 573.16,-65.21 570.6,-53.34\"/>\n",
       "</g>\n",
       "<!-- 14 -->\n",
       "<g id=\"node15\" class=\"node\">\n",
       "<title>14</title>\n",
       "<ellipse fill=\"none\" stroke=\"black\" cx=\"645.11\" cy=\"-26.87\" rx=\"31.23\" ry=\"26.74\"/>\n",
       "<text text-anchor=\"middle\" x=\"645.11\" y=\"-30.67\" font-family=\"Times New Roman,serif\" font-size=\"14.00\">30up</text>\n",
       "<text text-anchor=\"middle\" x=\"645.11\" y=\"-15.67\" font-family=\"Times New Roman,serif\" font-size=\"14.00\">61%</text>\n",
       "</g>\n",
       "<!-- 12&#45;&#45;14 -->\n",
       "<g id=\"edge14\" class=\"edge\">\n",
       "<title>12&#45;&#45;14</title>\n",
       "<path fill=\"none\" stroke=\"black\" stroke-dasharray=\"1,5\" d=\"M595.78,-89.63C605.19,-77.85 617.77,-62.11 627.86,-49.46\"/>\n",
       "</g>\n",
       "</g>\n",
       "</svg>\n"
      ],
      "text/plain": [
       "<graphviz.sources.Source at 0x23afcc30b50>"
      ]
     },
     "execution_count": 16,
     "metadata": {},
     "output_type": "execute_result"
    }
   ],
   "source": [
    "from func.decision_image import save_graph_as_svg\n",
    "\n",
    "save_graph_as_svg(dtc = dtc, X_train=X_train, X_predict = X_train.iloc[1].values.tolist(), output_file_name = '1111', directory = './')"
   ]
  },
  {
   "cell_type": "code",
   "execution_count": null,
   "id": "112a772c",
   "metadata": {},
   "outputs": [],
   "source": []
  }
 ],
 "metadata": {
  "kernelspec": {
   "display_name": "Python 3 (ipykernel)",
   "language": "python",
   "name": "python3"
  },
  "language_info": {
   "codemirror_mode": {
    "name": "ipython",
    "version": 3
   },
   "file_extension": ".py",
   "mimetype": "text/x-python",
   "name": "python",
   "nbconvert_exporter": "python",
   "pygments_lexer": "ipython3",
   "version": "3.8.12"
  }
 },
 "nbformat": 4,
 "nbformat_minor": 5
}
