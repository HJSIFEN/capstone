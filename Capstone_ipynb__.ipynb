{
 "cells": [
  {
   "cell_type": "code",
   "execution_count": 12,
   "metadata": {
    "id": "o9v82sIMPZfx"
   },
   "outputs": [],
   "source": [
    "import os\n",
    "import sys\n",
    "import urllib.request\n",
    "import json\n",
    "from bs4 import BeautifulSoup\n",
    "import urllib.request\n",
    "from urllib.parse import quote\n",
    "import requests\n",
    "import numpy as np\n",
    "import datetime\n",
    "import pandas as pd"
   ]
  },
  {
   "cell_type": "code",
   "execution_count": 13,
   "metadata": {
    "id": "G7uZnauIME3f"
   },
   "outputs": [
    {
     "name": "stdout",
     "output_type": "stream",
     "text": [
      "<class 'list'>\n",
      "<class 'list'>\n",
      "<class 'list'>\n",
      "<class 'list'>\n",
      "<class 'list'>\n",
      "<class 'list'>\n",
      "<class 'list'>\n",
      "<class 'list'>\n",
      "<class 'list'>\n",
      "<class 'list'>\n",
      "<class 'list'>\n",
      "<class 'list'>\n",
      "<class 'list'>\n",
      "<class 'list'>\n",
      "<class 'list'>\n",
      "<class 'list'>\n",
      "<class 'list'>\n",
      "<class 'list'>\n",
      "<class 'list'>\n",
      "<class 'list'>\n"
     ]
    }
   ],
   "source": [
    "keywords = [\"양궁\",  \"올림픽\"]\n",
    "\n",
    "results = {}\n",
    "\n",
    "for keyword in keywords:\n",
    "\n",
    "  result = []\n",
    "\n",
    "  client_id = \"mFVJrDtj4trdT2ermoVF\"\n",
    "  client_secret = \"hbpIY84KD3\"\n",
    "  encText = urllib.parse.quote(keyword)\n",
    "\n",
    "  for i in range(1, 1000, 100):\n",
    "    url = \"https://openapi.naver.com/v1/search/blog?query=\" + encText + f'&display=100&start={i}' # json 결과\n",
    "    # url = \"https://openapi.naver.com/v1/search/blog.xml?query=\" + encText # xml 결과\n",
    "\n",
    "    request = urllib.request.Request(url)\n",
    "    request.add_header(\"X-Naver-Client-Id\",client_id)\n",
    "    request.add_header(\"X-Naver-Client-Secret\",client_secret)\n",
    "    response = urllib.request.urlopen(request)\n",
    "    rescode = response.getcode()\n",
    "    \n",
    "    if (rescode==200):\n",
    "        response_body = response.read()\n",
    "        result += [response_body.decode('utf-8')]\n",
    "        print(type(result))\n",
    "    else:\n",
    "        print(\"Error Code:\" + rescode)\n",
    "  results[keyword] = result"
   ]
  },
  {
   "cell_type": "code",
   "execution_count": 14,
   "metadata": {
    "colab": {
     "base_uri": "https://localhost:8080/"
    },
    "id": "u-cyWq3nSImn",
    "outputId": "81ca1fa8-f6d4-4f6c-bba3-6c007e49c460"
   },
   "outputs": [
    {
     "ename": "IndexError",
     "evalue": "only integers, slices (`:`), ellipsis (`...`), numpy.newaxis (`None`) and integer or boolean arrays are valid indices",
     "output_type": "error",
     "traceback": [
      "\u001b[1;31m---------------------------------------------------------------------------\u001b[0m",
      "\u001b[1;31mIndexError\u001b[0m                                Traceback (most recent call last)",
      "\u001b[1;32m<ipython-input-14-313103cdbdf3>\u001b[0m in \u001b[0;36m<module>\u001b[1;34m\u001b[0m\n\u001b[1;32m----> 1\u001b[1;33m \u001b[0mdata\u001b[0m\u001b[1;33m[\u001b[0m\u001b[1;34m'양궁'\u001b[0m\u001b[1;33m]\u001b[0m\u001b[1;33m\u001b[0m\u001b[1;33m\u001b[0m\u001b[0m\n\u001b[0m",
      "\u001b[1;31mIndexError\u001b[0m: only integers, slices (`:`), ellipsis (`...`), numpy.newaxis (`None`) and integer or boolean arrays are valid indices"
     ]
    }
   ],
   "source": [
    "data['양궁']"
   ]
  },
  {
   "cell_type": "code",
   "execution_count": 16,
   "metadata": {
    "id": "7MG_Ncrflkdk"
   },
   "outputs": [],
   "source": [
    "import re\n",
    "\n",
    "def processString(txt):\n",
    "    specialChars = \"!#$%^&*()\"\n",
    "    for specialChar in specialChars:\n",
    "        txt = txt.replace(specialChar, '')\n",
    "        txt = txt.replace(',', ' ')\n",
    "        txt = txt.replace('.', ' ')\n",
    "        txt = txt.replace('\"', ' ')\n",
    "        txt = txt.replace('ღ', ' ')\n",
    "        txt = txt.replace('​', ' ')\n",
    "        txt = txt.replace('  ', ' ')\n",
    "        txt = txt.replace('   ', ' ')\n",
    "        txt = txt.replace('    ', ' ')\n",
    "        txt = txt.replace('     ', ' ')\n",
    "    return txt.strip()\n",
    "\n",
    "def processText(txt):\n",
    "    specialChars = \"!#$%^&*()\"\n",
    "    for specialChar in specialChars:\n",
    "        txt = txt.replace('  ', ' ')\n",
    "        txt = txt.replace('   ', ' ')\n",
    "        txt = txt.replace('    ', ' ')\n",
    "        txt = txt.replace('     ', ' ')\n",
    "    return txt.strip()\n",
    "\n",
    "# 본문에 키워드 언급 갯수\n",
    "def keyword_search(txt):\n",
    "    \n",
    "    if(txt.find(keyword[0]) != -1):\n",
    "        a = txt.find(keyword[0])\n",
    "        b = 1\n",
    "        while txt[a+1:].find(keyword) != -1:\n",
    "            a = txt[a+1:].find(keyword) + a + 1\n",
    "            b+=1\n",
    "        return b\n",
    "\n",
    "    \n",
    "\n",
    "# 키워드가 본문의 처음 100단어 안에 포함되는가\n",
    "def keyword_in_100(txt):\n",
    "    a = txt.find(\"양궁\")\n",
    "    if(a<=100):\n",
    "        return True\n",
    "    else:\n",
    "        return False"
   ]
  },
  {
   "cell_type": "code",
   "execution_count": null,
   "metadata": {
    "colab": {
     "base_uri": "https://localhost:8080/",
     "height": 457
    },
    "id": "F7Z1wdBfOFun",
    "outputId": "d043cca6-2e24-4c0e-ce4f-2b481d9cb847"
   },
   "outputs": [],
   "source": [
    "import json\n",
    "from bs4 import BeautifulSoup\n",
    "import urllib.request\n",
    "from urllib.parse import quote\n",
    "import requests\n",
    "import numpy as np\n",
    "import datetime\n",
    "import pandas as pd\n",
    "\n",
    "data = np.array([])\n",
    "\n",
    "for keyword in keywords:\n",
    "  text1 = []\n",
    "  text_amount = []\n",
    "  keyword_mentioned = []\n",
    "  items = []\n",
    "  \n",
    "  results_ = results[keyword]\n",
    "  print(type(results_))\n",
    "  for result in results_:\n",
    "    print(type(result))\n",
    "    items += json.loads(result)['items']\n",
    "  #items = 블로그 배열 (items[0] = 첫번째 블로그)\n",
    "\n",
    "  print(f'블로그 개수 : {len(items)}')\n",
    "\n",
    "  \n",
    "\n",
    "  for label, i in enumerate(range(0,len(items))):\n",
    "    text2 = \"\"\n",
    "    #print(i)\n",
    "    response1 = requests.get(items[i]['link'])\n",
    "    soup = BeautifulSoup(response1.text)\n",
    "    idx = str(soup.find_all('iframe').pop()).find('src')\n",
    "    source = str(soup.find_all('iframe').pop())[idx+5:-11]\n",
    "    source = source.replace('amp;', '')\n",
    "    if source.find('PostView.naver') == -1:\n",
    "      continue\n",
    "    url = 'http://blog.naver.com' + source\n",
    "    response1 = requests.get(url)\n",
    "    soup = BeautifulSoup(response1.text)\n",
    "    # 예외처리\n",
    "    # print(url)\n",
    "    temp = soup.find_all(\"div\", \"se-main-container\") + soup.find_all(\"div\", id=\"postViewArea\") + soup.find_all(\"div\", id = \"postListBody\")\n",
    "    temp1 = BeautifulSoup(str(temp.pop()))\n",
    "    text = temp1.text.replace('\\n', ' ')\n",
    "    text1.append([processString(text)])\n",
    "    title = items[i]['title']\n",
    "\n",
    "    # 포스트 날짜\n",
    "    postdate = datetime.datetime.strptime(items[i]['postdate'], '%Y%m%d')\n",
    "    pastday = (datetime.datetime.now() - postdate).days\n",
    "\n",
    "    #댓글 갯수\n",
    "    comtemp = str(soup.find_all('em', id='floating_bottom_commentCount'))\n",
    "    #print(comtemp)\n",
    "    commentNum = BeautifulSoup(comtemp).text.replace(']', '').replace('[', '').strip()\n",
    "    if commentNum == '' :\n",
    "      commentNum =0\n",
    "    else :\n",
    "      commentNum = int(commentNum)\n",
    "\n",
    "    # 키워드 언급 개수\n",
    "    #keyword_mentioned.append([keyword_search(text)])\n",
    "      \n",
    "    # 본문 분량\n",
    "    text2 += processText(text)\n",
    "    text_amount.append(len(text2))\n",
    "    \n",
    "    #print(\"본문 분량:\", text_amount[i], \"자\")\n",
    "    #print(\"키워드 언급 횟수:\", keyword_mentioned[i], \"번\")\n",
    "    #print(\"댓글 개수:\", commentNum,\"개\") \n",
    "    #print(\"본문의 처음 100단어안에 포함되는가:\", keyword_in_100(text))\n",
    "\n",
    "    if type(keyword) != list:\n",
    "      keyword_list = keyword.split()\n",
    "    keyword_title = []\n",
    "    \n",
    "    for k in keyword_list:\n",
    "      keyword_title += [k in title]\n",
    "    #print(f\"제목에 키워드 포함 여부 : {keyword_list} : {keyword_title}\")\n",
    "    \n",
    "    link_num = len(temp1.find_all('div', class_=\"se-module se-module-oglink\"))\n",
    "    #print(f'링크 개수 : {link_num}')\n",
    "    \n",
    "    player_num= len(temp1.find_all('div', class_= 'se-component se-video se-l-default') + temp1.find_all('a', class_=\"se-link\"))\n",
    "    # print(f'동영상 개수 : {player_num}')\n",
    "\n",
    "    img_num= len(temp1.find_all('img'))\n",
    "    # print(f'이미지 개수 : {img_num}')\n",
    "    \n",
    "    data = np.append(data, np.array([int(len(text2)), int(keyword_search(text)), int(commentNum), int(keyword_in_100(text)), int(link_num), int(player_num), int(img_num), int(pastday), int(label)]))\n",
    "\n",
    "\n",
    "\n",
    "columns = ['본문길이', '키워드 언급개수', '댓글개수', '처음 100단어', '링크개수', '동영상개수', '이미지 개수', '지난 날짜', 'label']\n",
    "\n",
    "data = data.reshape(-1, len(columns))\n",
    "\n",
    "df = pd.DataFrame(data, columns = columns)\n",
    "df.to_csv('data.csv')\n",
    "df.head()"
   ]
  },
  {
   "cell_type": "code",
   "execution_count": null,
   "metadata": {
    "id": "YF5CNaGrCma6"
   },
   "outputs": [],
   "source": [
    "from sklearn.linear_model import SGDRegressor\n",
    "\n",
    "sgd  = SGDRegressor()"
   ]
  },
  {
   "cell_type": "code",
   "execution_count": null,
   "metadata": {
    "id": "WNLWSDYiE69O"
   },
   "outputs": [],
   "source": [
    "sgd.fit(df, label)"
   ]
  },
  {
   "cell_type": "code",
   "execution_count": null,
   "metadata": {
    "id": "5-iyOCwLFTbQ"
   },
   "outputs": [],
   "source": [
    "import tensorflow as tf\n",
    "from tensorflow.keras.layers import Dense\n",
    "from tensorflow.keras import Model\n",
    "\n",
    "class myModel(Model):\n",
    "  def __init__(self):\n",
    "    super(myModel, self).__init__()\n",
    "    self.dense1 = Dense(100, activation = 'relu')\n",
    "    self.dense2 = Dense(50, activation = 'relu')\n",
    "    self.dense3 = Dense(30, activation = 'relu')\n",
    "    self.dense4 = Dense(1, activation = 'linear')\n",
    "\n",
    "  def call(self, x):\n",
    "    return self.dense4(self.dense3(self.dense2(self.dense1(x))))"
   ]
  },
  {
   "cell_type": "code",
   "execution_count": null,
   "metadata": {
    "id": "-ccFBQ8aHSgk"
   },
   "outputs": [],
   "source": [
    "model = myModel()"
   ]
  },
  {
   "cell_type": "code",
   "execution_count": null,
   "metadata": {
    "id": "MGXlt_IbHXhe"
   },
   "outputs": [],
   "source": [
    "loss_object = tf.keras.losses.MeanSquaredError()\n",
    "optimizer = tf.keras.optimizers.Adam()"
   ]
  },
  {
   "cell_type": "code",
   "execution_count": null,
   "metadata": {
    "id": "ITo1AedNNGnj"
   },
   "outputs": [],
   "source": [
    "train_loss = tf.keras.metrics.Mean(name = 'train_loss')\n",
    "\n",
    "test_loss = tf.keras.metrics.Mean(name = 'test_loss')"
   ]
  },
  {
   "cell_type": "code",
   "execution_count": null,
   "metadata": {
    "id": "X_66KoUJNf1v"
   },
   "outputs": [],
   "source": [
    "@tf.function\n",
    "def train_step(data, labels):\n",
    "  with tf.GradientTape() as tape:\n",
    "    predictions = model(data)\n",
    "    loss = loss_object(labels, predictions)\n",
    "  gradients = tape.gradient(loss, model.trainable_variables)\n",
    "  optimizer.apply_gradients(zip(gradients, model.trainable_variables))\n",
    "\n",
    "  train_loss(loss)"
   ]
  },
  {
   "cell_type": "code",
   "execution_count": null,
   "metadata": {
    "id": "Pmw2wstpOPvv"
   },
   "outputs": [],
   "source": [
    "@tf.function\n",
    "def test_step(data, labels):\n",
    "  predictions = model(data)\n",
    "  t_loss = loss_object(labels, predictions)\n",
    "\n",
    "  test_loss(t_loss)"
   ]
  },
  {
   "cell_type": "code",
   "execution_count": null,
   "metadata": {
    "colab": {
     "base_uri": "https://localhost:8080/"
    },
    "id": "Sv2y2-o0SU6b",
    "outputId": "4313b57d-b851-42bb-e1b6-e1147d13f6ed"
   },
   "outputs": [],
   "source": [
    "df.to_numpy()"
   ]
  },
  {
   "cell_type": "code",
   "execution_count": null,
   "metadata": {
    "colab": {
     "base_uri": "https://localhost:8080/"
    },
    "id": "dJ3v260TTuA-",
    "outputId": "b7f9be7c-f1c4-45c3-a6c4-e4b21e63b898"
   },
   "outputs": [],
   "source": [
    "print(len(df.to_numpy()), len(label))"
   ]
  },
  {
   "cell_type": "code",
   "execution_count": null,
   "metadata": {
    "id": "iJoFTRg5RsqV"
   },
   "outputs": [],
   "source": [
    "train_ds = tf.data.Dataset.from_tensor_slices((X_train, y_train)).shuffle(10000).batch(32)\n",
    "\n",
    "test_ds = tf.data.Dataset.from_tensor_slices((X_test, y_test)).batch(32)"
   ]
  },
  {
   "cell_type": "code",
   "execution_count": null,
   "metadata": {
    "id": "OPNS2U0WCOTU"
   },
   "outputs": [],
   "source": [
    "import matplotlib.pyplot as plt"
   ]
  },
  {
   "cell_type": "code",
   "execution_count": null,
   "metadata": {
    "colab": {
     "base_uri": "https://localhost:8080/"
    },
    "id": "E1u4ozetDCKI",
    "outputId": "de86d5c5-7264-4617-c101-e22d2b598d6a"
   },
   "outputs": [],
   "source": [
    "train_loss.result().numpy()"
   ]
  },
  {
   "cell_type": "code",
   "execution_count": null,
   "metadata": {
    "colab": {
     "base_uri": "https://localhost:8080/"
    },
    "id": "w9tfyywcLTPC",
    "outputId": "5add153e-177e-4428-9e63-7a4522464859"
   },
   "outputs": [],
   "source": [
    "label"
   ]
  },
  {
   "cell_type": "code",
   "execution_count": null,
   "metadata": {
    "colab": {
     "base_uri": "https://localhost:8080/"
    },
    "id": "R_BIJ99nb0gl",
    "outputId": "09d60f75-cb2f-4d47-e3dd-cf6983a23489"
   },
   "outputs": [],
   "source": [
    "X_train, y_train"
   ]
  },
  {
   "cell_type": "code",
   "execution_count": null,
   "metadata": {
    "id": "iAdiR2dfKqXW"
   },
   "outputs": [],
   "source": [
    "EPOCHS = 1000\n",
    "train_losses =[]\n",
    "test_losses = []"
   ]
  },
  {
   "cell_type": "code",
   "execution_count": null,
   "metadata": {
    "colab": {
     "base_uri": "https://localhost:8080/",
     "height": 1000
    },
    "id": "sjh3Q0FUOkzU",
    "outputId": "ff6be512-2591-4942-f741-699a922c7d25"
   },
   "outputs": [],
   "source": [
    "for epoch in range(EPOCHS):\n",
    "  for data, labels in train_ds:\n",
    "    train_step(data, labels)\n",
    "  for test_x, test_labels in test_ds:\n",
    "    test_step(test_x, test_labels)\n",
    "  template = '에포크: {}, train_loss: {}, test_loss: {}'\n",
    "  print(template.format(epoch + 1,\n",
    "                        train_loss.result(),\n",
    "                        test_loss.result()))\n",
    "  train_losses += [train_loss.result().numpy()]\n",
    "  test_losses += [test_loss.result().numpy()]\n",
    "\n",
    "  if epoch % 100 == 0:\n",
    "    plt.scatter(y_train, model(X_train))\n",
    "    plt.show()\n"
   ]
  },
  {
   "cell_type": "code",
   "execution_count": null,
   "metadata": {
    "colab": {
     "base_uri": "https://localhost:8080/",
     "height": 265
    },
    "id": "Jhsv5ockEZyH",
    "outputId": "38186d71-c414-4a2a-8c1e-f82513e4663c"
   },
   "outputs": [],
   "source": [
    "plt.plot(train_losses)\n",
    "plt.plot(test_losses)\n",
    "plt.legend(['train_loss', 'test_loss'])\n",
    "plt.show()"
   ]
  },
  {
   "cell_type": "code",
   "execution_count": null,
   "metadata": {
    "colab": {
     "base_uri": "https://localhost:8080/",
     "height": 265
    },
    "id": "m7Yzc4TdRLK9",
    "outputId": "6d240fe2-a6bf-443c-ba3d-5af103894f1b"
   },
   "outputs": [],
   "source": [
    "plt.scatter(y_train, model(X_train))\n",
    "plt.grid()"
   ]
  },
  {
   "cell_type": "code",
   "execution_count": null,
   "metadata": {
    "colab": {
     "base_uri": "https://localhost:8080/",
     "height": 265
    },
    "id": "CIuhwVzbGa4b",
    "outputId": "1cf793b9-c007-421c-8a67-1aedff529e64"
   },
   "outputs": [],
   "source": [
    "plt.scatter(y_train, model(X_train))\n",
    "plt.show()"
   ]
  },
  {
   "cell_type": "code",
   "execution_count": null,
   "metadata": {
    "colab": {
     "base_uri": "https://localhost:8080/"
    },
    "id": "TVJJv8BJE9oa",
    "outputId": "1db38bd5-57b7-4d73-fa2a-759265531178"
   },
   "outputs": [],
   "source": [
    "model.losses"
   ]
  },
  {
   "cell_type": "code",
   "execution_count": null,
   "metadata": {
    "colab": {
     "base_uri": "https://localhost:8080/"
    },
    "id": "AjZwcgdWVHJf",
    "outputId": "efcfe5fc-e39e-4caa-9bb6-2d17dacf2b64"
   },
   "outputs": [],
   "source": [
    "data[0:1]"
   ]
  },
  {
   "cell_type": "code",
   "execution_count": null,
   "metadata": {
    "id": "PrW2zWl_Vr5b"
   },
   "outputs": [],
   "source": [
    "data = df.to_numpy()"
   ]
  },
  {
   "cell_type": "code",
   "execution_count": null,
   "metadata": {
    "colab": {
     "base_uri": "https://localhost:8080/",
     "height": 913
    },
    "id": "BsUXbnRXUu5U",
    "outputId": "8df8dd08-2f82-44b7-e89f-1ae708f9d1af"
   },
   "outputs": [],
   "source": [
    "import matplotlib.pyplot as plt\n",
    "\n",
    "\n",
    "plt.scatter(label,model(data[0:1000]))\n",
    "plt.xlabel('실제 블로그 순위')\n",
    "plt.ylabel('예측 블로그 순위')\n",
    "plt.show()"
   ]
  },
  {
   "cell_type": "code",
   "execution_count": null,
   "metadata": {
    "colab": {
     "base_uri": "https://localhost:8080/",
     "height": 703
    },
    "id": "yISkK0kFD7u5",
    "outputId": "86f2fb71-5872-4c43-dffb-71c08e58afa1"
   },
   "outputs": [],
   "source": [
    "for i in range(100):\n",
    "  print(int(sgd.predict([data[i]])))"
   ]
  },
  {
   "cell_type": "code",
   "execution_count": null,
   "metadata": {
    "colab": {
     "base_uri": "https://localhost:8080/"
    },
    "id": "HaLdk491DACR",
    "outputId": "1354de36-6d3d-4466-8c1d-bf0088563c46"
   },
   "outputs": [],
   "source": [
    "data[0]"
   ]
  },
  {
   "cell_type": "code",
   "execution_count": null,
   "metadata": {
    "id": "JjhzS9032CfB"
   },
   "outputs": [],
   "source": [
    "data = data.reshape(-1,8)"
   ]
  },
  {
   "cell_type": "code",
   "execution_count": null,
   "metadata": {
    "id": "gKU8qXZtz27h"
   },
   "outputs": [],
   "source": [
    "import pandas as pd\n",
    "\n",
    "columns = ['본문길이', '키워드 언급개수', '댓글개수', '처음 100단어', '링크개수', '동영상개수', '이미지 개수', '지난 날짜']\n",
    "\n",
    "\n",
    "data = pd.DataFrame(data, columns = columns)"
   ]
  },
  {
   "cell_type": "code",
   "execution_count": null,
   "metadata": {
    "colab": {
     "base_uri": "https://localhost:8080/",
     "height": 172
    },
    "id": "pQhGAlI_3THy",
    "outputId": "a8feadbe-dc6d-4319-f5ef-f7251e229638"
   },
   "outputs": [],
   "source": [
    "data"
   ]
  },
  {
   "cell_type": "code",
   "execution_count": null,
   "metadata": {
    "id": "-IML4Y7o-Blc"
   },
   "outputs": [],
   "source": [
    "data.to_csv('data')"
   ]
  },
  {
   "cell_type": "code",
   "execution_count": null,
   "metadata": {
    "id": "jt16YuJBYcrO"
   },
   "outputs": [],
   "source": [
    "for a in data[:, 1]:\n",
    "  a.pop()"
   ]
  },
  {
   "cell_type": "code",
   "execution_count": null,
   "metadata": {
    "colab": {
     "base_uri": "https://localhost:8080/"
    },
    "id": "oUTT3kPcPCOe",
    "outputId": "09b41d23-62d5-4c8c-d1a5-9547e9d27ef9"
   },
   "outputs": [],
   "source": [
    "url = \"http://blog.naver.com/PostView.naver?blogId=mahapass&logNo=222445754512&from=search&redirect=Log&widgetTypeCall=true&directAccess=false\"\n",
    "\n",
    "response1 = requests.get(url)\n",
    "soup = BeautifulSoup(response1.text)\n",
    "  # 예외처리\n",
    "print(url)\n",
    "temp = soup.find_all(\"div\", \"se-main-container\") + soup.find_all(\"div\", id=\"postViewArea\") + soup.find_all(\"div\", id = \"postListBody\")\n",
    "temp1 = BeautifulSoup(str(temp.pop()))\n",
    "text = temp1.text.replace('\\n', ' ')"
   ]
  },
  {
   "cell_type": "code",
   "execution_count": null,
   "metadata": {
    "colab": {
     "base_uri": "https://localhost:8080/",
     "height": 160
    },
    "id": "eVqyvcBLPZMb",
    "outputId": "a5ddb446-598e-4b58-9479-44da58b6e3bf"
   },
   "outputs": [],
   "source": [
    "text"
   ]
  },
  {
   "cell_type": "code",
   "execution_count": null,
   "metadata": {
    "colab": {
     "base_uri": "https://localhost:8080/"
    },
    "id": "p-bfDtiwMxMv",
    "outputId": "df61ff9d-e17f-4c3d-da20-36d7caecc0d5"
   },
   "outputs": [],
   "source": [
    "data.reshape(-1, 7)"
   ]
  },
  {
   "cell_type": "code",
   "execution_count": null,
   "metadata": {
    "id": "PJdMWl3PTc-0"
   },
   "outputs": [],
   "source": [
    "from PyKomoran import Komoran, DEFAULT_MODEL\n",
    "import konlpy\n",
    "from konlpy.tag import *\n",
    "\n",
    "hannanum = Hannanum()\n",
    "kkma = Kkma()\n",
    "okt = Okt()\n",
    "\n",
    "#komoran = Komoran(DEFAULT_MODEL['LIGHT'])\n",
    "token_list = []\n",
    "for text in text1:\n",
    "  token_list += [hannanum.nouns(str(text1))]\n",
    "\n",
    "print(len(token_list))\n",
    "print(token_list[0])"
   ]
  },
  {
   "cell_type": "markdown",
   "metadata": {
    "id": "pu0L62TLWj8e"
   },
   "source": [
    "블로그 글 작성 날짜"
   ]
  },
  {
   "cell_type": "code",
   "execution_count": null,
   "metadata": {
    "id": "24bQT3kxWnH0"
   },
   "outputs": [],
   "source": [
    "from bs4 import BeautifulSoup\n",
    "import requests\n",
    "\n",
    "url = 'https://blog.naver.com/ht_seoge/222405714709'\n",
    "\n",
    "response = requests.get(url)\n",
    "soup=BeautifulSoup(response.text)\n",
    "idx = str(soup.find_all('iframe').pop()).find('src')\n",
    "source = str(soup.find_all('iframe').pop())[idx+5:-11]\n",
    "\n",
    "source = source.replace('amp;', '')\n",
    "url = 'http://blog.naver.com' + source\n",
    "\n",
    "response = requests.get(url)\n",
    "soup = BeautifulSoup(response.text)\n",
    "date = soup.find_all(\"p\", class_=\"date fil5 pcol2 _postAddDate\") + soup.find_all(\"span\", class_=\"se_publishDate pcol2\") #+ soup.find_all(\"span\", class_=\"date pcol2\")\n",
    "date = BeautifulSoup(str(date.pop())).text\n",
    "\n",
    "\n",
    "date"
   ]
  },
  {
   "cell_type": "markdown",
   "metadata": {
    "id": "vRRboNeNaMS3"
   },
   "source": [
    "이미지 개수"
   ]
  },
  {
   "cell_type": "code",
   "execution_count": null,
   "metadata": {
    "id": "ew6Oqp3yXRIS"
   },
   "outputs": [],
   "source": [
    "url = 'https://blog.naver.com/ht_seoge/222405714709'\n",
    "\n",
    "response = requests.get(url)\n",
    "soup=BeautifulSoup(response.text)\n",
    "idx = str(soup.find_all('iframe').pop()).find('src')\n",
    "source = str(soup.find_all('iframe').pop())[idx+5:-11]\n",
    "\n",
    "source = source.replace('amp;', '')\n",
    "url = 'http://blog.naver.com' + source\n",
    "\n",
    "response = requests.get(url)\n",
    "soup = BeautifulSoup(response.text)\n",
    "temp = soup.find_all(\"div\", [\"se-main-container\"])\n",
    "len(BeautifulSoup(str(temp)).find_all(\"img\"))"
   ]
  },
  {
   "cell_type": "code",
   "execution_count": null,
   "metadata": {
    "id": "UrlmXYF1gj1v"
   },
   "outputs": [],
   "source": [
    "!pip install konlpy"
   ]
  },
  {
   "cell_type": "code",
   "execution_count": null,
   "metadata": {
    "id": "yLxPE3IUeQHc"
   },
   "outputs": [],
   "source": [
    "!pip install git+https://github.com/haven-jeon/PyKoSpacing.git"
   ]
  },
  {
   "cell_type": "code",
   "execution_count": null,
   "metadata": {
    "id": "42jR_pOlf9gH"
   },
   "outputs": [],
   "source": [
    "sent = '김철수는 극중 두 인격의 사나이 이광수 역을 맡았다. 철수는 한국 유일의 태권도 전승자를 가리는 결전의 날을 앞두고 10년간 함께 훈련한 사형인 유연재(김광수 분)를 찾으러 속세로 내려온 인물이다.'"
   ]
  },
  {
   "cell_type": "code",
   "execution_count": null,
   "metadata": {
    "id": "Spx6NLTGgCiv"
   },
   "outputs": [],
   "source": [
    "new_sent = sent.replace(\" \", '') # 띄어쓰기가 없는 문장 임의로 만들기\n",
    "print(new_sent)"
   ]
  },
  {
   "cell_type": "code",
   "execution_count": null,
   "metadata": {
    "id": "eAObMxwSgDnT"
   },
   "outputs": [],
   "source": [
    "from pykospacing import Spacing\n",
    "spacing = Spacing()\n",
    "kospacing_sent = spacing(new_sent) \n",
    "\n",
    "print(sent)\n",
    "print(kospacing_sent)"
   ]
  },
  {
   "cell_type": "code",
   "execution_count": null,
   "metadata": {
    "id": "BG78FoKoggJ7"
   },
   "outputs": [],
   "source": []
  }
 ],
 "metadata": {
  "accelerator": "GPU",
  "colab": {
   "collapsed_sections": [],
   "name": "Capstone.ipynb의 사본의 사본",
   "provenance": []
  },
  "kernelspec": {
   "display_name": "Python 3",
   "language": "python",
   "name": "python3"
  },
  "language_info": {
   "codemirror_mode": {
    "name": "ipython",
    "version": 3
   },
   "file_extension": ".py",
   "mimetype": "text/x-python",
   "name": "python",
   "nbconvert_exporter": "python",
   "pygments_lexer": "ipython3",
   "version": "3.8.5"
  }
 },
 "nbformat": 4,
 "nbformat_minor": 1
}
