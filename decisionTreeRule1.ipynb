{
 "cells": [
  {
   "cell_type": "code",
   "execution_count": 2,
   "metadata": {},
   "outputs": [],
   "source": [
    "feature_names = ['text_amount','keyword_mentioned','commentNum', 'keyword_100', 'keyword_title_data','link_num_data','player_num_data','img_num_data','past_date','five_day_visitor','cls_label']\n",
    "qwe = feature_names"
   ]
  },
  {
   "cell_type": "code",
   "execution_count": 3,
   "metadata": {},
   "outputs": [
    {
     "data": {
      "text/plain": [
       "DecisionTreeClassifier(max_leaf_nodes=17)"
      ]
     },
     "execution_count": 3,
     "metadata": {},
     "output_type": "execute_result"
    }
   ],
   "source": [
    "import pandas as pd\n",
    "from imblearn.under_sampling import RandomUnderSampler\n",
    "from sklearn.model_selection import train_test_split\n",
    "from sklearn.tree import DecisionTreeClassifier, plot_tree\n",
    "\n",
    "\n",
    "data = pd.read_csv('data.csv').iloc[:, 1:]\n",
    "data['cls_label'] = data.apply(lambda x: 1 if x['label'] > 30 else 0, axis = 1)\n",
    "data1 = data.drop(['label'], axis = 1)\n",
    "X, y = data1.iloc[:, :-1], data1.iloc[:, -1]\n",
    "\n",
    "X_resampled, y_resampled = RandomUnderSampler(random_state=0).fit_resample(X, y)\n",
    "\n",
    "X_train, X_test, y_train, y_test = train_test_split(X_resampled, y_resampled, random_state =42, test_size = 0.20)\n",
    "\n",
    "dtc = DecisionTreeClassifier(max_depth=None, max_leaf_nodes=17)\n",
    "dtc.fit(X_train, y_train)"
   ]
  },
  {
   "cell_type": "code",
   "execution_count": 4,
   "metadata": {},
   "outputs": [],
   "source": [
    "import numpy as np\n",
    "from sklearn.tree import _tree\n",
    "\n",
    "def tree_to_code1(tree, feature_names):\n",
    "    tree_ = tree.tree_\n",
    "    feature_name = [feature_names[i] \n",
    "                    if i != _tree.TREE_UNDEFINED else \"undefined!\" \n",
    "                    for i in tree_.feature]\n",
    "    print(\"def tree({}):\".format(\", \".join(feature_names)))\n",
    "\n",
    "    def recurse(node, depth):\n",
    "        indent = \"    \" * depth\n",
    "        if tree_.feature[node] != _tree.TREE_UNDEFINED:\n",
    "            name = feature_name[node]\n",
    "            threshold = tree_.threshold[node]\n",
    "            print(\"{}if {} <= {}:\".format(indent, name, threshold))\n",
    "            recurse(tree_.children_left[node], depth + 1)\n",
    "            print(\"{}else:  # if {} > {}\".format(indent, name, threshold))\n",
    "            recurse(tree_.children_right[node], depth + 1)\n",
    "        else:\n",
    "            if(np.argmax(tree_.value[node])==0):\n",
    "                print(\"{}return {}\".format(indent, np.argmax(tree_.value[node])))\n",
    "                \n",
    "\n",
    "    recurse(0, 1)"
   ]
  },
  {
   "cell_type": "code",
   "execution_count": 5,
   "metadata": {},
   "outputs": [],
   "source": [
    "#의사결정나무 규칙 txt파일화\n",
    "import sys\n",
    "from sklearn.tree import DecisionTreeClassifier, plot_tree\n",
    "\n",
    "best_dt = dtc\n",
    "\n",
    "temp = sys.stdout\n",
    "sys.stdout = open(\"treerule.txt\", \"w\")\n",
    "tree_to_code1(best_dt, qwe)\n",
    "sys.stdout.close()\n",
    "sys.stdout = temp\n",
    "\n",
    "a = []"
   ]
  },
  {
   "cell_type": "code",
   "execution_count": 6,
   "metadata": {},
   "outputs": [],
   "source": [
    "def findTextCountInText(fname, word):\n",
    "    cOunt = 0\n",
    "    lines = 0\n",
    "    with open(fname, 'r') as f:\n",
    "        for line in f:\n",
    "            lines = lines+1\n",
    "            if word in line:\n",
    "                cOunt = cOunt + 1\n",
    "    return cOunt"
   ]
  },
  {
   "cell_type": "code",
   "execution_count": 7,
   "metadata": {},
   "outputs": [],
   "source": [
    "def listappend(rulelist,x,lines,level):\n",
    "    try:\n",
    "        lines[x] = lines[x].replace(\"# if\",\"\")\n",
    "        lines[x] = re.sub(\"\\:|\\#|\",\"\",lines[x])\n",
    "        sprule = lines[x].split()\n",
    "        rulelist.append([level,sprule[1],sprule[2],sprule[3]])\n",
    "    except:\n",
    "        rulelist.append(['return'])"
   ]
  },
  {
   "cell_type": "code",
   "execution_count": 8,
   "metadata": {},
   "outputs": [],
   "source": [
    "import os\n",
    "import re\n",
    "f = open('treerule.txt')\n",
    "nodenum = findTextCountInText('treerule.txt.','return 0') #원하는 class의 노드 수 확인\n",
    "\n",
    "rulelist = []\n",
    "level = 0\n",
    "\n",
    "lines = f.readlines()\n",
    "\n",
    "for x in range(1,len(lines)):#각 라인별 레벨 입력    \n",
    "    if lines[x].find(\"                    \")==0:\n",
    "        level = 5\n",
    "        listappend(rulelist,x,lines,level)\n",
    "        \n",
    "    elif lines[x].find(\"                \")==0:\n",
    "        level = 4\n",
    "        listappend(rulelist,x,lines,level)\n",
    "        \n",
    "    elif lines[x].find(\"            \")==0:\n",
    "        level = 3\n",
    "        listappend(rulelist,x,lines,level)\n",
    "        \n",
    "    elif lines[x].find(\"        \")==0:\n",
    "        level = 2\n",
    "        listappend(rulelist,x,lines,level)\n",
    "        \n",
    "    else:\n",
    "        level = 1\n",
    "        listappend(rulelist,x,lines,level)\n",
    "    \n",
    "    \n",
    "    \n",
    "f.close()"
   ]
  },
  {
   "cell_type": "code",
   "execution_count": 9,
   "metadata": {},
   "outputs": [],
   "source": [
    "returnrule = []\n",
    "\n",
    "for i in reversed(range(0,len(rulelist))):\n",
    "    if rulelist[i][0]=='return':\n",
    "        returnlevel = rulelist[i-1][0]\n",
    "        for k in reversed(range(0,i)):\n",
    "            if returnlevel==0:\n",
    "                returnrule.append([\"\",\"\",\"\"])\n",
    "                \n",
    "                break\n",
    "                \n",
    "            elif returnlevel==rulelist[k][0]:  \n",
    "                returnrule.append([rulelist[k][1],rulelist[k][2],rulelist[k][3]])\n",
    "                returnlevel = returnlevel-1\n",
    "                \n",
    "            else:\n",
    "                continue"
   ]
  },
  {
   "cell_type": "code",
   "execution_count": 10,
   "metadata": {},
   "outputs": [],
   "source": [
    "import pandas as pd\n",
    "usercsv = pd.read_csv('user.csv')"
   ]
  },
  {
   "cell_type": "code",
   "execution_count": 11,
   "metadata": {},
   "outputs": [],
   "source": [
    "asd = []\n",
    "asdf = 1\n",
    "\n",
    "for i in range(0,len(returnrule)):\n",
    "    if returnrule[i][0]=='five_day_visitor':\n",
    "        target = str(usercsv.five_day_visitor)\n",
    "        if returnrule[i][1]=='>':\n",
    "            if target<=returnrule[i][2]:\n",
    "                asdf = asdf*0\n",
    "        else:\n",
    "            if target>returnrule[i][2]:\n",
    "                asdf = asdf*0\n",
    "    \n",
    "    elif returnrule[i][0]=='keyword_mentioned':\n",
    "        target = str(usercsv.keyword_mentioned)\n",
    "        if returnrule[i][1]=='>':\n",
    "            if target<=returnrule[i][2]:\n",
    "                asdf = asdf*0\n",
    "        else:\n",
    "            if target>returnrule[i][2]:\n",
    "                asdf = asdf*0\n",
    "    \n",
    "    elif returnrule[i][0]=='commentNum':\n",
    "        target = str(usercsv.commentNum)\n",
    "        if returnrule[i][1]=='>':\n",
    "            if target<=returnrule[i][2]:\n",
    "                asdf = asdf*0\n",
    "        else:\n",
    "            if target>returnrule[i][2]:\n",
    "                asdf = asdf*0\n",
    "            \n",
    "    elif returnrule[i][0]=='keyword_title_data':\n",
    "        target = str(usercsv.keyword_title_data)\n",
    "        if returnrule[i][1]=='>':\n",
    "            if target<=returnrule[i][2]:\n",
    "                asdf = asdf*0\n",
    "        else:\n",
    "            if target>returnrule[i][2]:\n",
    "                asdf = asdf*0\n",
    "                \n",
    "    elif returnrule[i][0]=='link_num_data':\n",
    "        target = str(usercsv.link_num_data)\n",
    "        if returnrule[i][1]=='>':\n",
    "            if target<=returnrule[i][2]:\n",
    "                asdf = asdf*0\n",
    "        else:\n",
    "            if target>returnrule[i][2]:\n",
    "                asdf = asdf*0\n",
    "    elif returnrule[i][0]=='player_num_data':\n",
    "        target = str(usercsv.player_num_data)\n",
    "        if returnrule[i][1]=='>':\n",
    "            if target<=returnrule[i][2]:\n",
    "                asdf = asdf*0\n",
    "        else:\n",
    "            if target>returnrule[i][2]:\n",
    "                asdf = asdf*0\n",
    "                \n",
    "    elif returnrule[i][0]=='img_num_data':\n",
    "        target = str(usercsv.img_num_data)\n",
    "        if returnrule[i][1]=='>':\n",
    "            if target<=returnrule[i][2]:\n",
    "                asdf = asdf*0\n",
    "        else:\n",
    "            if target>returnrule[i][2]:\n",
    "                asdf = asdf*0\n",
    "                \n",
    "    elif returnrule[i][0]=='past_date':\n",
    "        target = str(usercsv.past_date)\n",
    "        if returnrule[i][1]=='>':\n",
    "            if target<=returnrule[i][2]:\n",
    "                asdf = asdf*0\n",
    "        else:\n",
    "            if target>returnrule[i][2]:\n",
    "                asdf = asdf*0\n",
    "            \n",
    "    elif returnrule[i][0]=='five_day_visitor':\n",
    "        target = str(usercsv.five_day_visitor)\n",
    "        if returnrule[i][1]=='>':\n",
    "            if target<=returnrule[i][2]:\n",
    "                asdf = asdf*0\n",
    "        else:\n",
    "            if target>returnrule[i][2]:\n",
    "                asdf = asdf*0\n",
    "    else:\n",
    "        asd.append(asdf)\n",
    "        asdf=1\n",
    "asd.append(asdf)"
   ]
  },
  {
   "cell_type": "code",
   "execution_count": 12,
   "metadata": {},
   "outputs": [
    {
     "name": "stdout",
     "output_type": "stream",
     "text": [
      "해당 글은 조건을 만족하지 않습니다\n"
     ]
    }
   ],
   "source": [
    "for i in range(0,len(asd)):\n",
    "    k = k*asd[i]\n",
    "\n",
    "if k==0:\n",
    "    print(\"해당 글은 조건을 만족하지 않습니다\")\n",
    "else:\n",
    "    print(\"해당 글은 조건을 만족합니다\")"
   ]
  },
  {
   "cell_type": "code",
   "execution_count": null,
   "metadata": {},
   "outputs": [],
   "source": []
  }
 ],
 "metadata": {
  "kernelspec": {
   "display_name": "Python 3",
   "language": "python",
   "name": "python3"
  },
  "language_info": {
   "codemirror_mode": {
    "name": "ipython",
    "version": 3
   },
   "file_extension": ".py",
   "mimetype": "text/x-python",
   "name": "python",
   "nbconvert_exporter": "python",
   "pygments_lexer": "ipython3",
   "version": "3.8.3"
  }
 },
 "nbformat": 4,
 "nbformat_minor": 5
}
