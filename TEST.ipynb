{
 "cells": [
  {
   "cell_type": "code",
<<<<<<< HEAD
   "execution_count": 1,
   "id": "4852d717",
=======
   "execution_count": 2,
>>>>>>> f84fc63f9b5a731f0d66ced4e084cf3c1e4288a7
   "metadata": {},
   "outputs": [],
   "source": [
    "from func.search import *"
   ]
  },
  {
   "cell_type": "code",
<<<<<<< HEAD
   "execution_count": 2,
   "id": "bad2262a",
=======
   "execution_count": 7,
>>>>>>> f84fc63f9b5a731f0d66ced4e084cf3c1e4288a7
   "metadata": {
    "scrolled": true
   },
   "outputs": [
    {
     "ename": "TypeError",
     "evalue": "get_data() got an unexpected keyword argument 'keyword'",
     "output_type": "error",
     "traceback": [
      "\u001b[1;31m---------------------------------------------------------------------------\u001b[0m",
      "\u001b[1;31mTypeError\u001b[0m                                 Traceback (most recent call last)",
      "\u001b[1;32m<ipython-input-7-0424b00906d2>\u001b[0m in \u001b[0;36m<module>\u001b[1;34m\u001b[0m\n\u001b[0;32m      1\u001b[0m \u001b[0mkeyword\u001b[0m\u001b[1;33m=\u001b[0m \u001b[1;33m[\u001b[0m\u001b[1;34m'커피'\u001b[0m\u001b[1;33m,\u001b[0m \u001b[1;34m'원두'\u001b[0m\u001b[1;33m]\u001b[0m\u001b[1;33m\u001b[0m\u001b[1;33m\u001b[0m\u001b[0m\n\u001b[1;32m----> 2\u001b[1;33m \u001b[0mdata_dict\u001b[0m\u001b[1;33m,\u001b[0m \u001b[0mtext1\u001b[0m \u001b[1;33m=\u001b[0m \u001b[0mget_data\u001b[0m\u001b[1;33m(\u001b[0m\u001b[0mkeyword\u001b[0m \u001b[1;33m=\u001b[0m \u001b[0mkeyword\u001b[0m\u001b[1;33m,\u001b[0m \u001b[0mnaver_api\u001b[0m\u001b[1;33m=\u001b[0m\u001b[1;32mFalse\u001b[0m\u001b[1;33m,\u001b[0m \u001b[0mlength\u001b[0m \u001b[1;33m=\u001b[0m \u001b[1;36m1000\u001b[0m\u001b[1;33m)\u001b[0m\u001b[1;33m\u001b[0m\u001b[1;33m\u001b[0m\u001b[0m\n\u001b[0m\u001b[0;32m      3\u001b[0m \u001b[1;31m#print(data_dict)\u001b[0m\u001b[1;33m\u001b[0m\u001b[1;33m\u001b[0m\u001b[1;33m\u001b[0m\u001b[0m\n",
      "\u001b[1;31mTypeError\u001b[0m: get_data() got an unexpected keyword argument 'keyword'"
     ]
    }
   ],
   "source": [
    "keyword= ['커피', '원두']\n",
    "data_dict, text1 = get_data(keyword = keyword, naver_api=False, length = 1000)\n",
    "#print(data_dict)"
   ]
  },
  {
   "cell_type": "code",
<<<<<<< HEAD
   "execution_count": 19,
   "id": "35bc4544",
=======
   "execution_count": 59,
>>>>>>> f84fc63f9b5a731f0d66ced4e084cf3c1e4288a7
   "metadata": {},
   "outputs": [
    {
     "data": {
      "text/plain": [
       "\"\\nlength= 10\\nkeyword = '키워드'\\n\\ndata_dict, text1 = get_data(keyword = keyword, length = length)\\n\\ndata_dict = 본문 분량, 키워드 언급 횟수, ...\\ntext1 = 블로그 내용\\n\\n\\nprint(data_dict['text_amount'])\\n\""
      ]
     },
     "execution_count": 59,
     "metadata": {},
     "output_type": "execute_result"
    }
   ],
   "source": [
    "\"\"\"\n",
    "length= 10\n",
    "keyword = '키워드'\n",
    "\n",
    "data_dict, text1 = get_data(keyword = keyword, length = length)\n",
    "\n",
    "data_dict = 본문 분량, 키워드 언급 횟수, ...\n",
    "text1 = 블로그 내용\n",
    "\n",
    "\n",
    "print(data_dict['text_amount'])\n",
    "\"\"\""
   ]
  },
  {
   "cell_type": "code",
<<<<<<< HEAD
   "execution_count": 3,
   "id": "880cddc0",
=======
   "execution_count": 4,
>>>>>>> f84fc63f9b5a731f0d66ced4e084cf3c1e4288a7
   "metadata": {
    "scrolled": false
   },
   "outputs": [
    {
     "data": {
      "text/html": [
       "<div>\n",
       "<style scoped>\n",
       "    .dataframe tbody tr th:only-of-type {\n",
       "        vertical-align: middle;\n",
       "    }\n",
       "\n",
       "    .dataframe tbody tr th {\n",
       "        vertical-align: top;\n",
       "    }\n",
       "\n",
       "    .dataframe thead th {\n",
       "        text-align: right;\n",
       "    }\n",
       "</style>\n",
       "<table border=\"1\" class=\"dataframe\">\n",
       "  <thead>\n",
       "    <tr style=\"text-align: right;\">\n",
       "      <th></th>\n",
       "      <th>본문 분량</th>\n",
       "      <th>키워드 언급 횟수</th>\n",
       "      <th>댓글 개수</th>\n",
       "      <th>100자안에 키워드존재</th>\n",
       "      <th>제목에 키워드 존재</th>\n",
       "      <th>링크 개수</th>\n",
       "      <th>동영상 개수</th>\n",
       "      <th>이미지 개수</th>\n",
       "      <th>작성일자</th>\n",
       "      <th>순위점수</th>\n",
       "    </tr>\n",
       "  </thead>\n",
       "  <tbody>\n",
       "    <tr>\n",
       "      <th>0</th>\n",
       "      <td>2010</td>\n",
       "      <td>0</td>\n",
       "      <td>5</td>\n",
       "      <td>1</td>\n",
       "      <td>0</td>\n",
       "      <td>1</td>\n",
       "      <td>2</td>\n",
       "      <td>27</td>\n",
       "      <td>2021. 10. 5. 15:57</td>\n",
       "      <td>1000</td>\n",
       "    </tr>\n",
       "    <tr>\n",
       "      <th>1</th>\n",
       "      <td>2745</td>\n",
       "      <td>0</td>\n",
       "      <td>9</td>\n",
       "      <td>1</td>\n",
       "      <td>0</td>\n",
       "      <td>1</td>\n",
       "      <td>3</td>\n",
       "      <td>20</td>\n",
       "      <td>16시간 전</td>\n",
       "      <td>999</td>\n",
       "    </tr>\n",
       "    <tr>\n",
       "      <th>2</th>\n",
       "      <td>2382</td>\n",
       "      <td>0</td>\n",
       "      <td>5</td>\n",
       "      <td>1</td>\n",
       "      <td>0</td>\n",
       "      <td>0</td>\n",
       "      <td>0</td>\n",
       "      <td>19</td>\n",
       "      <td>2021. 9. 20. 8:58</td>\n",
       "      <td>998</td>\n",
       "    </tr>\n",
       "    <tr>\n",
       "      <th>3</th>\n",
       "      <td>2144</td>\n",
       "      <td>0</td>\n",
       "      <td>2</td>\n",
       "      <td>1</td>\n",
       "      <td>0</td>\n",
       "      <td>1</td>\n",
       "      <td>0</td>\n",
       "      <td>8</td>\n",
       "      <td>2021. 9. 17. 1:19</td>\n",
       "      <td>997</td>\n",
       "    </tr>\n",
       "    <tr>\n",
       "      <th>4</th>\n",
       "      <td>2500</td>\n",
       "      <td>0</td>\n",
       "      <td>1</td>\n",
       "      <td>1</td>\n",
       "      <td>0</td>\n",
       "      <td>1</td>\n",
       "      <td>2</td>\n",
       "      <td>26</td>\n",
       "      <td>2021. 10. 1. 4:30</td>\n",
       "      <td>996</td>\n",
       "    </tr>\n",
       "    <tr>\n",
       "      <th>...</th>\n",
       "      <td>...</td>\n",
       "      <td>...</td>\n",
       "      <td>...</td>\n",
       "      <td>...</td>\n",
       "      <td>...</td>\n",
       "      <td>...</td>\n",
       "      <td>...</td>\n",
       "      <td>...</td>\n",
       "      <td>...</td>\n",
       "      <td>...</td>\n",
       "    </tr>\n",
       "    <tr>\n",
       "      <th>1008</th>\n",
       "      <td>3131</td>\n",
       "      <td>0</td>\n",
       "      <td>1</td>\n",
       "      <td>1</td>\n",
       "      <td>0</td>\n",
       "      <td>0</td>\n",
       "      <td>1</td>\n",
       "      <td>37</td>\n",
       "      <td>2021. 9. 5. 21:45</td>\n",
       "      <td>-8</td>\n",
       "    </tr>\n",
       "    <tr>\n",
       "      <th>1009</th>\n",
       "      <td>1687</td>\n",
       "      <td>0</td>\n",
       "      <td>0</td>\n",
       "      <td>1</td>\n",
       "      <td>0</td>\n",
       "      <td>1</td>\n",
       "      <td>0</td>\n",
       "      <td>30</td>\n",
       "      <td>2020. 10. 20. 22:16</td>\n",
       "      <td>-9</td>\n",
       "    </tr>\n",
       "    <tr>\n",
       "      <th>1010</th>\n",
       "      <td>1602</td>\n",
       "      <td>0</td>\n",
       "      <td>0</td>\n",
       "      <td>1</td>\n",
       "      <td>0</td>\n",
       "      <td>1</td>\n",
       "      <td>2</td>\n",
       "      <td>18</td>\n",
       "      <td>2020. 12. 1. 22:08</td>\n",
       "      <td>-10</td>\n",
       "    </tr>\n",
       "    <tr>\n",
       "      <th>1011</th>\n",
       "      <td>2091</td>\n",
       "      <td>0</td>\n",
       "      <td>0</td>\n",
       "      <td>1</td>\n",
       "      <td>0</td>\n",
       "      <td>0</td>\n",
       "      <td>2</td>\n",
       "      <td>26</td>\n",
       "      <td>2021. 2. 2. 21:48</td>\n",
       "      <td>-11</td>\n",
       "    </tr>\n",
       "    <tr>\n",
       "      <th>1012</th>\n",
       "      <td>1100</td>\n",
       "      <td>0</td>\n",
       "      <td>1</td>\n",
       "      <td>1</td>\n",
       "      <td>0</td>\n",
       "      <td>0</td>\n",
       "      <td>0</td>\n",
       "      <td>11</td>\n",
       "      <td>2020. 10. 17. 23:40</td>\n",
       "      <td>-12</td>\n",
       "    </tr>\n",
       "  </tbody>\n",
       "</table>\n",
       "<p>1013 rows × 10 columns</p>\n",
       "</div>"
      ],
      "text/plain": [
       "      본문 분량  키워드 언급 횟수  댓글 개수  100자안에 키워드존재  제목에 키워드 존재  링크 개수  동영상 개수  \\\n",
       "0      2010          0      5             1           0      1       2   \n",
       "1      2745          0      9             1           0      1       3   \n",
       "2      2382          0      5             1           0      0       0   \n",
       "3      2144          0      2             1           0      1       0   \n",
       "4      2500          0      1             1           0      1       2   \n",
       "...     ...        ...    ...           ...         ...    ...     ...   \n",
       "1008   3131          0      1             1           0      0       1   \n",
       "1009   1687          0      0             1           0      1       0   \n",
       "1010   1602          0      0             1           0      1       2   \n",
       "1011   2091          0      0             1           0      0       2   \n",
       "1012   1100          0      1             1           0      0       0   \n",
       "\n",
       "      이미지 개수                 작성일자  순위점수  \n",
       "0         27   2021. 10. 5. 15:57  1000  \n",
       "1         20               16시간 전   999  \n",
       "2         19    2021. 9. 20. 8:58   998  \n",
       "3          8    2021. 9. 17. 1:19   997  \n",
       "4         26    2021. 10. 1. 4:30   996  \n",
       "...      ...                  ...   ...  \n",
       "1008      37    2021. 9. 5. 21:45    -8  \n",
       "1009      30  2020. 10. 20. 22:16    -9  \n",
       "1010      18   2020. 12. 1. 22:08   -10  \n",
       "1011      26    2021. 2. 2. 21:48   -11  \n",
       "1012      11  2020. 10. 17. 23:40   -12  \n",
       "\n",
       "[1013 rows x 10 columns]"
      ]
     },
     "execution_count": 4,
     "metadata": {},
     "output_type": "execute_result"
    }
   ],
   "source": [
    "import numpy as np\n",
    "import datetime\n",
    "import pandas as pd\n",
    "\n",
    "df = pd.DataFrame({'본문 분량': data_dict['text_amount'], '키워드 언급 횟수': data_dict['keyword_mentioned'], '댓글 개수': data_dict['commentNum'], '100자안에 키워드존재': data_dict['keyword_100'], '제목에 키워드 존재': data_dict['keyword_title_data'], '링크 개수': data_dict['link_num_data'], '동영상 개수': data_dict['player_num_data'], '이미지 개수': data_dict['img_num_data'], '작성일자': data_dict['post_date'], '순위점수': data_dict['rank']})\n",
    "\n",
    "#df.to_csv('data.csv')\n",
    "\n",
    "df"
   ]
  },
  {
   "cell_type": "code",
<<<<<<< HEAD
   "execution_count": 6,
   "id": "7f380c49",
=======
   "execution_count": 61,
>>>>>>> f84fc63f9b5a731f0d66ced4e084cf3c1e4288a7
   "metadata": {},
   "outputs": [
    {
     "data": {
      "image/png": "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\n",
      "text/plain": [
       "<Figure size 432x288 with 1 Axes>"
      ]
     },
     "metadata": {
      "needs_background": "light"
     },
     "output_type": "display_data"
    }
   ],
   "source": [
    "from sklearn.linear_model import LinearRegression\n",
    "from sklearn.model_selection import train_test_split\n",
    "import statsmodels.api as sm\n",
    "import matplotlib.pyplot as plt\n",
    "from sklearn.preprocessing import StandardScaler\n",
    "from sklearn.preprocessing import MinMaxScaler\n",
    "\n",
    "x = df[['본문 분량', '키워드 언급 횟수', '댓글 개수', '100자안에 키워드존재', '제목에 키워드 존재', '링크 개수', '동영상 개수', '이미지 개수']]\n",
    "y = df[['순위점수']]\n",
    "\n",
    "x_train, x_test, y_train, y_test = train_test_split(x, y, train_size=0.75, test_size=0.25)\n",
    "\n",
    "scaler = MinMaxScaler()\n",
    "\n",
    "scaler.fit(x_train)\n",
    "x_train = scaler.transform(x_train)\n",
    "x_test = scaler.transform(x_test)\n",
    "\n",
    "mlr = LinearRegression()\n",
    "mlr.fit(x_train, y_train)\n",
    "\n",
    "y_predict = mlr.predict(x_test)\n",
    "\n",
    "plt.scatter(y_test, y_predict)\n",
    "plt.xlim(0, 1000)\n",
    "plt.ylim(0 ,1000)\n",
    "plt.xlabel(\"Actual\")\n",
    "plt.ylabel(\"Predicted\")\n",
    "plt.title(\"MULTIPLE LINEAR REGRESSION\")\n",
    "plt.show()"
   ]
  },
  {
   "cell_type": "code",
   "execution_count": null,
   "id": "88066abd",
   "metadata": {},
   "outputs": [],
   "source": []
  }
 ],
 "metadata": {
  "kernelspec": {
   "display_name": "Python 3",
   "language": "python",
   "name": "python3"
  },
  "language_info": {
   "codemirror_mode": {
    "name": "ipython",
    "version": 3
   },
   "file_extension": ".py",
   "mimetype": "text/x-python",
   "name": "python",
   "nbconvert_exporter": "python",
   "pygments_lexer": "ipython3",
   "version": "3.8.5"
  }
 },
 "nbformat": 4,
 "nbformat_minor": 5
}
