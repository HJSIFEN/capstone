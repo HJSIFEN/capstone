{
 "cells": [
  {
   "cell_type": "code",
   "execution_count": 2,
   "id": "ae323194",
   "metadata": {},
   "outputs": [],
   "source": [
    "import re\n",
    "\n",
    "def site_popularity(link):\n",
    "    if(re.search(\"naver\", link)):\n",
    "        return 10\n",
    "    elif(re.search(\"daum\", link)):\n",
    "        return 5\n",
    "    elif(re.search(\"tistory\", link)):\n",
    "        return 3\n",
    "    else:\n",
    "        return 1"
   ]
  }
 ],
 "metadata": {
  "kernelspec": {
   "display_name": "Python 3",
   "language": "python",
   "name": "python3"
  },
  "language_info": {
   "codemirror_mode": {
    "name": "ipython",
    "version": 3
   },
   "file_extension": ".py",
   "mimetype": "text/x-python",
   "name": "python",
   "nbconvert_exporter": "python",
   "pygments_lexer": "ipython3",
   "version": "3.8.8"
  }
 },
 "nbformat": 4,
 "nbformat_minor": 5
}
