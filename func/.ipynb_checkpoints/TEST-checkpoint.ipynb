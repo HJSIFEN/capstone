{
 "cells": [
  {
   "cell_type": "code",
   "execution_count": 3,
   "id": "d472657d",
   "metadata": {},
   "outputs": [],
   "source": [
    "from func.search import *\n"
   ]
  },
  {
   "cell_type": "code",
   "execution_count": 5,
   "id": "b210a25a",
   "metadata": {
    "scrolled": true
   },
   "outputs": [
    {
     "name": "stderr",
     "output_type": "stream",
     "text": [
      "C:\\Users\\Jo\\anaconda3\\lib\\site-packages\\bs4\\__init__.py:177: UserWarning: No parser was explicitly specified, so I'm using the best available HTML parser for this system (\"lxml\"). This usually isn't a problem, but if you run this code on another system, or in a different virtual environment, it may use a different parser and behave differently.\n",
      "\n",
      "The code that caused this warning is on line 194 of the file C:\\Users\\Jo\\anaconda3\\lib\\runpy.py. To get rid of this warning, change code that looks like this:\n",
      "\n",
      " BeautifulSoup(YOUR_MARKUP})\n",
      "\n",
      "to this:\n",
      "\n",
      " BeautifulSoup(YOUR_MARKUP, \"lxml\")\n",
      "\n",
      "  warnings.warn(self.NO_PARSER_SPECIFIED_WARNING % dict(\n"
     ]
    },
    {
     "name": "stdout",
     "output_type": "stream",
     "text": [
      "{'text_amount': [2308, 2053, 1999, 1947, 2802, 1219, 1150, 2635, 2895, 2951], 'keyword_mentioned': [10, 4, 19, 3, 17, 7, 9, 21, 11, 10], 'commentNum': [8, 83, 3, 4, 5, 0, 7, 18, 0, 0], 'keyword_100': [1, 1, 1, 1, 1, 1, 1, 1, 1, 1], 'keyword_title_data': [1, 1, 1, 1, 1, 1, 1, 1, 1, 1], 'link_num_data': [2, 0, 0, 0, 1, 0, 1, 0, 0, 0], 'player_num_data': [0, 1, 2, 0, 0, 0, 1, 0, 0, 0], 'img_num_data': [16, 21, 6, 15, 11, 6, 2, 14, 24, 15], 'post_date': ['2021. 9. 5. 16:54', '2021. 7. 10. 0:30', '2021. 9. 1. 20:17', '2021. 9. 7. 12:30', '2021. 8. 10. 15:38', '20시간 전', '2021. 9. 9. 11:04', '2021. 9. 3. 1:07', '2021. 9. 9. 14:40', '2021. 9. 9. 16:02']}\n"
     ]
    }
   ],
   "source": [
    "keyword= '노래'\n",
    "data_dict, text1 = get_data(keyword = keyword, naver_api=True)\n",
    "print(data_dict)"
   ]
  },
  {
   "cell_type": "code",
   "execution_count": 4,
   "id": "b971e92f",
   "metadata": {},
   "outputs": [
    {
     "name": "stdout",
     "output_type": "stream",
     "text": [
      "[2500, 2703, 3116, 2332, 1694, 1562, 3314, 2965, 2510, 1696, 4196, 693, 4493, 3709, 1970, 3041, 3436, 2303, 2886, 2853, 1119, 3028, 2471, 1240, 1186, 3149, 1117, 3359, 3493, 2319]\n"
     ]
    }
   ],
   "source": [
    "length= 10\n",
    "keyword = '키워드'\n",
    "\n",
    "data_dict, text1 = get_data(keyword = keyword, length = length)\n",
    "\"\"\"\n",
    "data_dict = 본문 분량, 키워드 언급 횟수, ...\n",
    "text1 = 블로그 내용\n",
    "\n",
    "\"\"\"\n",
    "print(data_dict['text_amount'])"
   ]
  },
  {
   "cell_type": "code",
   "execution_count": null,
   "id": "af5571e6",
   "metadata": {
    "collapsed": true
   },
   "outputs": [],
   "source": []
  }
 ],
 "metadata": {
  "kernelspec": {
   "display_name": "Python 3",
   "language": "python",
   "name": "python3"
  },
  "language_info": {
   "codemirror_mode": {
    "name": "ipython",
    "version": 3
   },
   "file_extension": ".py",
   "mimetype": "text/x-python",
   "name": "python",
   "nbconvert_exporter": "python",
   "pygments_lexer": "ipython3",
   "version": "3.8.5"
  }
 },
 "nbformat": 4,
 "nbformat_minor": 5
}
