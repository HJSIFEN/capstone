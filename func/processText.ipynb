{
 "cells": [
  {
   "cell_type": "code",
   "execution_count": 1,
   "id": "ab202e11",
   "metadata": {},
   "outputs": [],
   "source": [
    "def processText(txt):\n",
    "    specialChars = \"!#$%^&*()\"\n",
    "    for specialChar in specialChars:\n",
    "        txt = txt.replace('  ', ' ')\n",
    "        txt = txt.replace('   ', ' ')\n",
    "        txt = txt.replace('    ', ' ')\n",
    "        txt = txt.replace('     ', ' ')\n",
    "    return txt.strip()"
   ]
  }
 ],
 "metadata": {
  "kernelspec": {
   "display_name": "Python 3",
   "language": "python",
   "name": "python3"
  },
  "language_info": {
   "codemirror_mode": {
    "name": "ipython",
    "version": 3
   },
   "file_extension": ".py",
   "mimetype": "text/x-python",
   "name": "python",
   "nbconvert_exporter": "python",
   "pygments_lexer": "ipython3",
   "version": "3.8.8"
  }
 },
 "nbformat": 4,
 "nbformat_minor": 5
}
