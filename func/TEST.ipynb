{
 "cells": [
  {
   "cell_type": "code",
   "execution_count": 2,
   "id": "d472657d",
   "metadata": {},
   "outputs": [],
   "source": [
    "from search import *\n"
   ]
  },
  {
   "cell_type": "code",
   "execution_count": 5,
   "id": "b210a25a",
   "metadata": {
    "scrolled": true
   },
   "outputs": [
    {
     "name": "stderr",
     "output_type": "stream",
     "text": [
      "C:\\Users\\Jo\\anaconda3\\lib\\site-packages\\bs4\\__init__.py:177: UserWarning: No parser was explicitly specified, so I'm using the best available HTML parser for this system (\"lxml\"). This usually isn't a problem, but if you run this code on another system, or in a different virtual environment, it may use a different parser and behave differently.\n",
      "\n",
      "The code that caused this warning is on line 194 of the file C:\\Users\\Jo\\anaconda3\\lib\\runpy.py. To get rid of this warning, change code that looks like this:\n",
      "\n",
      " BeautifulSoup(YOUR_MARKUP})\n",
      "\n",
      "to this:\n",
      "\n",
      " BeautifulSoup(YOUR_MARKUP, \"lxml\")\n",
      "\n",
      "  warnings.warn(self.NO_PARSER_SPECIFIED_WARNING % dict(\n"
     ]
    },
    {
     "name": "stdout",
     "output_type": "stream",
     "text": [
      "{'text_amount': [2308, 2053, 1999, 1947, 2802, 1219, 1150, 2635, 2895, 2951], 'keyword_mentioned': [10, 4, 19, 3, 17, 7, 9, 21, 11, 10], 'commentNum': [8, 83, 3, 4, 5, 0, 7, 18, 0, 0], 'keyword_100': [1, 1, 1, 1, 1, 1, 1, 1, 1, 1], 'keyword_title_data': [1, 1, 1, 1, 1, 1, 1, 1, 1, 1], 'link_num_data': [2, 0, 0, 0, 1, 0, 1, 0, 0, 0], 'player_num_data': [0, 1, 2, 0, 0, 0, 1, 0, 0, 0], 'img_num_data': [16, 21, 6, 15, 11, 6, 2, 14, 24, 15], 'post_date': ['2021. 9. 5. 16:54', '2021. 7. 10. 0:30', '2021. 9. 1. 20:17', '2021. 9. 7. 12:30', '2021. 8. 10. 15:38', '20시간 전', '2021. 9. 9. 11:04', '2021. 9. 3. 1:07', '2021. 9. 9. 14:40', '2021. 9. 9. 16:02']}\n"
     ]
    }
   ],
   "source": [
    "keyword= '노래'\n",
    "data_dict, text1 = get_data(keyword = keyword, naver_api=True)\n",
    "print(data_dict)"
   ]
  },
  {
   "cell_type": "code",
   "execution_count": 5,
   "id": "b971e92f",
   "metadata": {},
   "outputs": [
    {
     "name": "stdout",
     "output_type": "stream",
     "text": [
      "{'text_amount': [2500, 2703, 3116, 2332, 1694, 1562, 3314, 2965, 2510, 1696, 4196, 693, 4493, 3709, 1970, 3041, 3436, 2303, 2886, 2853, 1119, 3028, 2471, 1240, 1186, 3149, 1117, 3359, 3493, 2319], 'keyword_mentioned': [5, 5, 6, 4, 19, 2, 24, 28, 9, 2, 14, 3, 9, 6, 6, 12, 9, 4, 22, 30, 3, 51, 4, 7, 16, 21, 1, 28, 16, 15], 'commentNum': [2, 0, 9, 7, 0, 4, 8, 3, 1, 1, 11, 0, 0, 0, 4, 0, 39, 8, 0, 28, 7, 15, 22, 3, 5, 97, 1, 1, 2, 1], 'keyword_100': [1, 1, 1, 1, 1, 1, 1, 1, 1, 1, 1, 1, 1, 1, 1, 1, 1, 1, 1, 1, 1, 1, 1, 1, 1, 1, 1, 1, 1, 1], 'keyword_title_data': [1, 1, 1, 1, 1, 1, 1, 1, 1, 1, 1, 1, 1, 1, 1, 1, 1, 1, 1, 1, 1, 1, 1, 1, 1, 1, 1, 1, 1, 1], 'link_num_data': [0, 0, 0, 1, 1, 1, 1, 2, 0, 1, 3, 0, 0, 0, 0, 0, 0, 0, 1, 1, 0, 0, 0, 0, 0, 0, 0, 1, 1, 0], 'player_num_data': [0, 0, 1, 4, 0, 3, 1, 3, 0, 0, 0, 0, 0, 4, 3, 0, 1, 0, 3, 1, 0, 0, 3, 0, 0, 5, 4, 0, 2, 1], 'img_num_data': [19, 14, 5, 7, 13, 4, 26, 12, 11, 18, 9, 15, 31, 3, 8, 7, 27, 14, 13, 30, 10, 6, 7, 15, 5, 23, 12, 10, 9, 8], 'post_date': ['2021. 1. 15. 13:33', '2021. 6. 9. 15:00', '2021. 9. 4. 21:45', '2021. 9. 11. 15:20', '2021. 7. 14. 14:35', '2021. 7. 8. 10:47', '2021. 7. 16. 13:49', '2021. 9. 1. 14:40', '2021. 8. 30. 13:00', '2021. 8. 24. 17:24', '2021. 9. 9. 12:15', '2021. 9. 9. 11:13', '2021. 9. 12. 13:20', '2021. 9. 9. 14:10', '2021. 9. 7. 12:48', '3시간 전', '2021. 8. 19. 18:18', '2021. 5. 31. 16:23', '2021. 8. 28. 14:06', '2021. 9. 5. 7:37', '2020. 12. 24. 13:17', '2021. 3. 18. 19:00', '2021. 9. 1. 9:46', '2021. 8. 31. 16:41', '2021. 5. 22. 18:20', '2021. 9. 6. 9:44', '2021. 6. 18. 19:31', '2021. 8. 25. 6:15', '2021. 9. 5. 18:39', '2021. 8. 28. 0:19']}\n"
     ]
    }
   ],
   "source": [
    "length= 10\n",
    "keyword = '키워드'\n",
    "\n",
    "data_dict, text1 = get_data(keyword = keyword, length = length)\n",
    "\"\"\"\n",
    "data_dict = 본문 분량, 키워드 언급 횟수, ...\n",
    "text1 = 블로그 내용\n",
    "\n",
    "\"\"\"\n",
    "print(data_dict)"
   ]
  },
  {
   "cell_type": "code",
   "execution_count": null,
   "id": "af5571e6",
   "metadata": {
    "collapsed": true
   },
   "outputs": [],
   "source": []
  }
 ],
 "metadata": {
  "kernelspec": {
   "display_name": "Python 3",
   "language": "python",
   "name": "python3"
  },
  "language_info": {
   "codemirror_mode": {
    "name": "ipython",
    "version": 3
   },
   "file_extension": ".py",
   "mimetype": "text/x-python",
   "name": "python",
   "nbconvert_exporter": "python",
   "pygments_lexer": "ipython3",
   "version": "3.8.5"
  }
 },
 "nbformat": 4,
 "nbformat_minor": 5
}
