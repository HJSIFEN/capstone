{
 "cells": [
  {
   "cell_type": "code",
   "execution_count": 1,
   "id": "a7e1a79e",
   "metadata": {},
   "outputs": [],
   "source": [
    "def keyword_search(txt):\n",
    "    \n",
    "    if(txt.find(keyword[0]) != -1):\n",
    "        a = txt.find(keyword[0])\n",
    "        b = 1\n",
    "        while txt[a+1:].find(keyword) != -1:\n",
    "            a = txt[a+1:].find(keyword) + a + 1\n",
    "            b+=1\n",
    "        return b"
   ]
  }
 ],
 "metadata": {
  "kernelspec": {
   "display_name": "Python 3",
   "language": "python",
   "name": "python3"
  },
  "language_info": {
   "codemirror_mode": {
    "name": "ipython",
    "version": 3
   },
   "file_extension": ".py",
   "mimetype": "text/x-python",
   "name": "python",
   "nbconvert_exporter": "python",
   "pygments_lexer": "ipython3",
   "version": "3.8.8"
  }
 },
 "nbformat": 4,
 "nbformat_minor": 5
}
