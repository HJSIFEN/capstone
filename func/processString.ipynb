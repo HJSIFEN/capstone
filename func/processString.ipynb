{
 "cells": [
  {
   "cell_type": "code",
   "execution_count": 19,
   "id": "13571c11",
   "metadata": {},
   "outputs": [],
   "source": [
    "def processString(txt):\n",
    "    specialChars = \"!#$%^&*()\"\n",
    "    for specialChar in specialChars:\n",
    "        txt = txt.replace(specialChar, '')\n",
    "        txt = txt.replace(',', ' ')\n",
    "        txt = txt.replace('.', ' ')\n",
    "        txt = txt.replace('\"', ' ')\n",
    "        txt = txt.replace('ღ', ' ')\n",
    "        txt = txt.replace('​', ' ')\n",
    "        txt = txt.replace('  ', ' ')\n",
    "        txt = txt.replace('   ', ' ')\n",
    "        txt = txt.replace('    ', ' ')\n",
    "        txt = txt.replace('     ', ' ')\n",
    "    return txt.strip()"
   ]
  }
 ],
 "metadata": {
  "kernelspec": {
   "display_name": "Python 3",
   "language": "python",
   "name": "python3"
  },
  "language_info": {
   "codemirror_mode": {
    "name": "ipython",
    "version": 3
   },
   "file_extension": ".py",
   "mimetype": "text/x-python",
   "name": "python",
   "nbconvert_exporter": "python",
   "pygments_lexer": "ipython3",
   "version": "3.8.8"
  }
 },
 "nbformat": 4,
 "nbformat_minor": 5
}
