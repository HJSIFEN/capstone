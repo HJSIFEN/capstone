{
 "cells": [
  {
   "cell_type": "code",
   "execution_count": null,
   "id": "ddfdf51a",
   "metadata": {},
   "outputs": [],
   "source": [
    "def naverKwdApi(keyword):\n",
    "    \n",
    "    rel_kwd_stat = RelKwdStat.RelKwdStat(BASE_URL, API_KEY, SECRET_KEY, CUSTOMER_ID)\n",
    "\n",
    "    target_rel_kwd_stat = rel_kwd_stat.get_rel_kwd_stat_list(None, hintKeywords=keyword, showDetail='1')\n",
    "    #for i in target_rel_kwd_stat:\n",
    "    print(\"PC조회수: \", target_rel_kwd_stat[0].monthlyPcQcCnt)"
   ]
  }
 ],
 "metadata": {
  "kernelspec": {
   "display_name": "Python 3",
   "language": "python",
   "name": "python3"
  },
  "language_info": {
   "codemirror_mode": {
    "name": "ipython",
    "version": 3
   },
   "file_extension": ".py",
   "mimetype": "text/x-python",
   "name": "python",
   "nbconvert_exporter": "python",
   "pygments_lexer": "ipython3",
   "version": "3.8.8"
  }
 },
 "nbformat": 4,
 "nbformat_minor": 5
}
