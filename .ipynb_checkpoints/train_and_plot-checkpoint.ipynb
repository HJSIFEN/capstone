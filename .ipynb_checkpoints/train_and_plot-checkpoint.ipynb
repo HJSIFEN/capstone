{
 "cells": [
  {
   "cell_type": "code",
   "execution_count": 13,
   "id": "cd68d815",
   "metadata": {},
   "outputs": [
    {
     "name": "stdout",
     "output_type": "stream",
     "text": [
      "The autoreload extension is already loaded. To reload it, use:\n",
      "  %reload_ext autoreload\n"
     ]
    }
   ],
   "source": [
    "%load_ext autoreload \n",
    "%autoreload 2"
   ]
  },
  {
   "cell_type": "code",
   "execution_count": 14,
   "id": "ed4d93fe",
   "metadata": {},
   "outputs": [],
   "source": [
    "import pandas as pd\n",
    "con_data = pd.read_csv('./data/con_data.csv').iloc[:, 1:]"
   ]
  },
  {
   "cell_type": "code",
   "execution_count": 15,
   "id": "5659caa8",
   "metadata": {},
   "outputs": [],
   "source": [
    "data = con_data.dropna(axis = 0).copy()"
   ]
  },
  {
   "cell_type": "code",
   "execution_count": 16,
   "id": "3474a36f",
   "metadata": {},
   "outputs": [],
   "source": [
    "data['cls_label'] = data.apply(lambda x: 1 if x['label'] > 30 else 0, axis = 1)"
   ]
  },
  {
   "cell_type": "code",
   "execution_count": 17,
   "id": "d647d420",
   "metadata": {},
   "outputs": [],
   "source": [
    "data1 = data.drop(['label'], axis = 1)\n",
    "data2 = data1.drop(['cls_label'], axis=1)"
   ]
  },
  {
   "cell_type": "code",
   "execution_count": 18,
   "id": "c3c5523e",
   "metadata": {},
   "outputs": [
    {
     "name": "stdout",
     "output_type": "stream",
     "text": [
      "['text_amount', 'keyword_mentioned', 'commentNum', 'keyword_title_data', 'link_num_data', 'player_num_data', 'img_num_data', 'past_date', 'five_day_visitor']\n"
     ]
    }
   ],
   "source": [
    "data_txt = []\n",
    "for i in data2.columns:\n",
    "    data_txt.append(i)\n",
    "print(data_txt)\n",
    "#print(data2.columns[0])"
   ]
  },
  {
   "cell_type": "code",
   "execution_count": 19,
   "id": "21223686",
   "metadata": {},
   "outputs": [],
   "source": [
    "X, y = data1.iloc[:, :-1], data1.iloc[:, -1]"
   ]
  },
  {
   "cell_type": "code",
   "execution_count": 20,
   "id": "4cd17b3e",
   "metadata": {},
   "outputs": [],
   "source": [
    "from collections import Counter\n",
    "import matplotlib.pyplot as plt\n",
    "\n",
    "def count_and_plot(y): \n",
    "    counter = Counter(y)\n",
    "    for k,v in counter.items():\n",
    "        print('Class=%d, n=%d (%.3f%%)' % (k, v, v / len(y) * 100))\n",
    "    plt.bar(counter.keys(), counter.values())\n",
    "    plt.show()"
   ]
  },
  {
   "cell_type": "code",
   "execution_count": 21,
   "id": "0f38ffdc",
   "metadata": {},
   "outputs": [
    {
     "name": "stdout",
     "output_type": "stream",
     "text": [
      "Class=0, n=5611 (50.000%)\n",
      "Class=1, n=5611 (50.000%)\n"
     ]
    },
    {
     "data": {
      "image/png": "[encoded data removed]",
      "text/plain": [
       "<Figure size 432x288 with 1 Axes>"
      ]
     },
     "metadata": {
      "needs_background": "light"
     },
     "output_type": "display_data"
    }
   ],
   "source": [
    "from imblearn.under_sampling import RandomUnderSampler\n",
    "X_resampled, y_resampled = RandomUnderSampler(random_state=0).fit_resample(X, y)\n",
    "count_and_plot(y_resampled)"
   ]
  },
  {
   "cell_type": "code",
   "execution_count": 22,
   "id": "485e5bb2",
   "metadata": {},
   "outputs": [],
   "source": [
    "from sklearn.model_selection import train_test_split\n",
    "\n",
    "X_train, X_test, y_train, y_test = train_test_split(X_resampled, y_resampled, random_state =42, test_size = 0.20)"
   ]
  },
  {
   "cell_type": "code",
   "execution_count": 45,
   "id": "47fd89e6",
   "metadata": {},
   "outputs": [
    {
     "data": {
      "text/plain": [
       "DecisionTreeClassifier(max_depth=4, max_leaf_nodes=10)"
      ]
     },
     "execution_count": 45,
     "metadata": {},
     "output_type": "execute_result"
    }
   ],
   "source": [
    "from sklearn.tree import DecisionTreeClassifier, plot_tree\n",
    "\n",
    "dtc = DecisionTreeClassifier(max_depth=4, max_leaf_nodes=10)\n",
    "dtc.fit(X_train, y_train)"
   ]
  },
  {
   "cell_type": "code",
   "execution_count": 69,
   "id": "2d9681c9",
   "metadata": {},
   "outputs": [
    {
     "name": "stdout",
     "output_type": "stream",
     "text": [
      "0 [label=\"past_date<=36\" shape=box style=\"filled\"];1 [label=\"text_amount<=934\" shape=box style=\"filled\"];2 [label=\"past_date<=759\" shape=box ];3 [label=\"text_amount<=468\" shape=box style=\"filled\"];4 [label=\"five_day_visitor<=2864\" shape=box ];5 [label=\"img_num_data<=9\" shape=box ];6 [label=\"keyword_mentioned<=0\" shape=box ];7 [label=\"30down\n",
      "54%\" shape=box style=\"filled\" fillcolor=\"yellow\"];8 [label=\"keyword_title_data<=0\" shape=box ];9 [label=\"30down\n",
      "57%\" shape=box style=\"filled\" fillcolor=\"yellow\"];10 [label=\"30down\n",
      "77%\" shape=box style=\"filled\" fillcolor=\"yellow\"];11 [label=\"30down\n",
      "52%\" shape=box style=\"filled\" fillcolor=\"yellow\"];12 [label=\"30up\n",
      "67%\" ];13 [label=\"30up\n",
      "89%\" style=\"filled\"];14 [label=\"30up\n",
      "54%\" ];15 [label=\"past_date<=2494\" shape=box ];16 [label=\"30up\n",
      "80%\" ];17 [label=\"30up\n",
      "70%\" ];18 [label=\"30up\n",
      "56%\" ];10 [label=\"30down\n",
      "77%\" shape=box style=\"filled\" fillcolor=\"green\"];\n"
     ]
    },
    {
     "name": "stderr",
     "output_type": "stream",
     "text": [
      "C:\\Users\\yongjin\\Anaconda3\\envs\\capston\\lib\\site-packages\\sklearn\\base.py:445: UserWarning: X does not have valid feature names, but DecisionTreeClassifier was fitted with feature names\n",
      "  warnings.warn(\n"
     ]
    },
    {
     "data": {
      "image/svg+xml": [
       "<?xml version=\"1.0\" encoding=\"UTF-8\" standalone=\"no\"?>\n",
       "<!DOCTYPE svg PUBLIC \"-//W3C//DTD SVG 1.1//EN\"\n",
       " \"http://www.w3.org/Graphics/SVG/1.1/DTD/svg11.dtd\">\n",
       "<!-- Generated by graphviz version 2.49.3 (20211023.0002)\n",
       " -->\n",
       "<!-- Title: graphname Pages: 1 -->\n",
       "<svg width=\"766pt\" height=\"367pt\"\n",
       " viewBox=\"0.00 0.00 766.23 367.48\" xmlns=\"http://www.w3.org/2000/svg\" xmlns:xlink=\"http://www.w3.org/1999/xlink\">\n",
       "<g id=\"graph0\" class=\"graph\" transform=\"scale(1 1) rotate(0) translate(4 363.48)\">\n",
       "<title>graphname</title>\n",
       "<polygon fill=\"white\" stroke=\"transparent\" points=\"-4,4 -4,-363.48 762.23,-363.48 762.23,4 -4,4\"/>\n",
       "<!-- 0 -->\n",
       "<g id=\"node1\" class=\"node\">\n",
       "<title>0</title>\n",
       "<polygon fill=\"lightgrey\" stroke=\"black\" points=\"415.61,-359.48 314.61,-359.48 314.61,-323.48 415.61,-323.48 415.61,-359.48\"/>\n",
       "<text text-anchor=\"middle\" x=\"365.11\" y=\"-337.78\" font-family=\"Times New Roman,serif\" font-size=\"14.00\">past_date&lt;=36</text>\n",
       "</g>\n",
       "<!-- 1 -->\n",
       "<g id=\"node2\" class=\"node\">\n",
       "<title>1</title>\n",
       "<polygon fill=\"lightgrey\" stroke=\"black\" points=\"329.11,-287.48 207.11,-287.48 207.11,-251.48 329.11,-251.48 329.11,-287.48\"/>\n",
       "<text text-anchor=\"middle\" x=\"268.11\" y=\"-265.78\" font-family=\"Times New Roman,serif\" font-size=\"14.00\">text_amount&lt;=934</text>\n",
       "</g>\n",
       "<!-- 0&#45;&#45;1 -->\n",
       "<g id=\"edge1\" class=\"edge\">\n",
       "<title>0&#45;&#45;1</title>\n",
       "<path fill=\"none\" stroke=\"red\" stroke-width=\"5\" d=\"M341.14,-323.18C326.1,-312.33 306.8,-298.4 291.81,-287.58\"/>\n",
       "</g>\n",
       "<!-- 2 -->\n",
       "<g id=\"node3\" class=\"node\">\n",
       "<title>2</title>\n",
       "<polygon fill=\"none\" stroke=\"black\" points=\"497.61,-287.48 390.61,-287.48 390.61,-251.48 497.61,-251.48 497.61,-287.48\"/>\n",
       "<text text-anchor=\"middle\" x=\"444.11\" y=\"-265.78\" font-family=\"Times New Roman,serif\" font-size=\"14.00\">past_date&lt;=759</text>\n",
       "</g>\n",
       "<!-- 0&#45;&#45;2 -->\n",
       "<g id=\"edge2\" class=\"edge\">\n",
       "<title>0&#45;&#45;2</title>\n",
       "<path fill=\"none\" stroke=\"black\" stroke-dasharray=\"1,5\" d=\"M384.64,-323.18C396.89,-312.33 412.61,-298.4 424.81,-287.58\"/>\n",
       "</g>\n",
       "<!-- 3 -->\n",
       "<g id=\"node4\" class=\"node\">\n",
       "<title>3</title>\n",
       "<polygon fill=\"lightgrey\" stroke=\"black\" points=\"172.11,-215.48 50.11,-215.48 50.11,-179.48 172.11,-179.48 172.11,-215.48\"/>\n",
       "<text text-anchor=\"middle\" x=\"111.11\" y=\"-193.78\" font-family=\"Times New Roman,serif\" font-size=\"14.00\">text_amount&lt;=468</text>\n",
       "</g>\n",
       "<!-- 1&#45;&#45;3 -->\n",
       "<g id=\"edge3\" class=\"edge\">\n",
       "<title>1&#45;&#45;3</title>\n",
       "<path fill=\"none\" stroke=\"red\" stroke-width=\"5\" d=\"M229.71,-251.36C205.29,-240.47 173.79,-226.43 149.39,-215.55\"/>\n",
       "</g>\n",
       "<!-- 4 -->\n",
       "<g id=\"node5\" class=\"node\">\n",
       "<title>4</title>\n",
       "<polygon fill=\"none\" stroke=\"black\" points=\"343.11,-215.48 193.11,-215.48 193.11,-179.48 343.11,-179.48 343.11,-215.48\"/>\n",
       "<text text-anchor=\"middle\" x=\"268.11\" y=\"-193.78\" font-family=\"Times New Roman,serif\" font-size=\"14.00\">five_day_visitor&lt;=2864</text>\n",
       "</g>\n",
       "<!-- 1&#45;&#45;4 -->\n",
       "<g id=\"edge4\" class=\"edge\">\n",
       "<title>1&#45;&#45;4</title>\n",
       "<path fill=\"none\" stroke=\"black\" stroke-dasharray=\"1,5\" d=\"M268.11,-251.18C268.11,-240.33 268.11,-226.4 268.11,-215.58\"/>\n",
       "</g>\n",
       "<!-- 5 -->\n",
       "<g id=\"node6\" class=\"node\">\n",
       "<title>5</title>\n",
       "<polygon fill=\"none\" stroke=\"black\" points=\"505.11,-215.48 383.11,-215.48 383.11,-179.48 505.11,-179.48 505.11,-215.48\"/>\n",
       "<text text-anchor=\"middle\" x=\"444.11\" y=\"-193.78\" font-family=\"Times New Roman,serif\" font-size=\"14.00\">img_num_data&lt;=9</text>\n",
       "</g>\n",
       "<!-- 2&#45;&#45;5 -->\n",
       "<g id=\"edge5\" class=\"edge\">\n",
       "<title>2&#45;&#45;5</title>\n",
       "<path fill=\"none\" stroke=\"black\" stroke-dasharray=\"1,5\" d=\"M444.11,-251.18C444.11,-240.33 444.11,-226.4 444.11,-215.58\"/>\n",
       "</g>\n",
       "<!-- 6 -->\n",
       "<g id=\"node7\" class=\"node\">\n",
       "<title>6</title>\n",
       "<polygon fill=\"none\" stroke=\"black\" points=\"698.11,-215.48 544.11,-215.48 544.11,-179.48 698.11,-179.48 698.11,-215.48\"/>\n",
       "<text text-anchor=\"middle\" x=\"621.11\" y=\"-193.78\" font-family=\"Times New Roman,serif\" font-size=\"14.00\">keyword_mentioned&lt;=0</text>\n",
       "</g>\n",
       "<!-- 2&#45;&#45;6 -->\n",
       "<g id=\"edge6\" class=\"edge\">\n",
       "<title>2&#45;&#45;6</title>\n",
       "<path fill=\"none\" stroke=\"black\" stroke-dasharray=\"1,5\" d=\"M487.41,-251.36C514.94,-240.47 550.45,-226.43 577.95,-215.55\"/>\n",
       "</g>\n",
       "<!-- 13 -->\n",
       "<g id=\"node14\" class=\"node\">\n",
       "<title>13</title>\n",
       "<ellipse fill=\"lightgrey\" stroke=\"black\" cx=\"31.11\" cy=\"-116.61\" rx=\"31.23\" ry=\"26.74\"/>\n",
       "<text text-anchor=\"middle\" x=\"31.11\" y=\"-120.41\" font-family=\"Times New Roman,serif\" font-size=\"14.00\">30up</text>\n",
       "<text text-anchor=\"middle\" x=\"31.11\" y=\"-105.41\" font-family=\"Times New Roman,serif\" font-size=\"14.00\">89%</text>\n",
       "</g>\n",
       "<!-- 3&#45;&#45;13 -->\n",
       "<g id=\"edge7\" class=\"edge\">\n",
       "<title>3&#45;&#45;13</title>\n",
       "<path fill=\"none\" stroke=\"red\" stroke-width=\"5\" d=\"M93.75,-179.37C81.25,-167.04 64.36,-150.38 51.26,-137.47\"/>\n",
       "</g>\n",
       "<!-- 14 -->\n",
       "<g id=\"node15\" class=\"node\">\n",
       "<title>14</title>\n",
       "<ellipse fill=\"none\" stroke=\"black\" cx=\"111.11\" cy=\"-116.61\" rx=\"31.23\" ry=\"26.74\"/>\n",
       "<text text-anchor=\"middle\" x=\"111.11\" y=\"-120.41\" font-family=\"Times New Roman,serif\" font-size=\"14.00\">30up</text>\n",
       "<text text-anchor=\"middle\" x=\"111.11\" y=\"-105.41\" font-family=\"Times New Roman,serif\" font-size=\"14.00\">54%</text>\n",
       "</g>\n",
       "<!-- 3&#45;&#45;14 -->\n",
       "<g id=\"edge8\" class=\"edge\">\n",
       "<title>3&#45;&#45;14</title>\n",
       "<path fill=\"none\" stroke=\"black\" stroke-dasharray=\"1,5\" d=\"M111.11,-179.37C111.11,-168.95 111.11,-155.43 111.11,-143.69\"/>\n",
       "</g>\n",
       "<!-- 9 -->\n",
       "<g id=\"node10\" class=\"node\">\n",
       "<title>9</title>\n",
       "<polygon fill=\"yellow\" stroke=\"black\" points=\"222.11,-135.61 160.11,-135.61 160.11,-97.61 222.11,-97.61 222.11,-135.61\"/>\n",
       "<text text-anchor=\"middle\" x=\"191.11\" y=\"-120.41\" font-family=\"Times New Roman,serif\" font-size=\"14.00\">30down</text>\n",
       "<text text-anchor=\"middle\" x=\"191.11\" y=\"-105.41\" font-family=\"Times New Roman,serif\" font-size=\"14.00\">57%</text>\n",
       "</g>\n",
       "<!-- 4&#45;&#45;9 -->\n",
       "<g id=\"edge9\" class=\"edge\">\n",
       "<title>4&#45;&#45;9</title>\n",
       "<path fill=\"none\" stroke=\"black\" stroke-dasharray=\"1,5\" d=\"M251.4,-179.37C238.84,-166.5 221.67,-148.91 208.86,-135.79\"/>\n",
       "</g>\n",
       "<!-- 10 -->\n",
       "<g id=\"node11\" class=\"node\">\n",
       "<title>10</title>\n",
       "<polygon fill=\"green\" stroke=\"black\" points=\"302.11,-135.61 240.11,-135.61 240.11,-97.61 302.11,-97.61 302.11,-135.61\"/>\n",
       "<text text-anchor=\"middle\" x=\"271.11\" y=\"-120.41\" font-family=\"Times New Roman,serif\" font-size=\"14.00\">30down</text>\n",
       "<text text-anchor=\"middle\" x=\"271.11\" y=\"-105.41\" font-family=\"Times New Roman,serif\" font-size=\"14.00\">77%</text>\n",
       "</g>\n",
       "<!-- 4&#45;&#45;10 -->\n",
       "<g id=\"edge10\" class=\"edge\">\n",
       "<title>4&#45;&#45;10</title>\n",
       "<path fill=\"none\" stroke=\"black\" stroke-dasharray=\"1,5\" d=\"M268.76,-179.37C269.25,-166.5 269.92,-148.91 270.42,-135.79\"/>\n",
       "</g>\n",
       "<!-- 7 -->\n",
       "<g id=\"node8\" class=\"node\">\n",
       "<title>7</title>\n",
       "<polygon fill=\"yellow\" stroke=\"black\" points=\"382.11,-135.61 320.11,-135.61 320.11,-97.61 382.11,-97.61 382.11,-135.61\"/>\n",
       "<text text-anchor=\"middle\" x=\"351.11\" y=\"-120.41\" font-family=\"Times New Roman,serif\" font-size=\"14.00\">30down</text>\n",
       "<text text-anchor=\"middle\" x=\"351.11\" y=\"-105.41\" font-family=\"Times New Roman,serif\" font-size=\"14.00\">54%</text>\n",
       "</g>\n",
       "<!-- 5&#45;&#45;7 -->\n",
       "<g id=\"edge11\" class=\"edge\">\n",
       "<title>5&#45;&#45;7</title>\n",
       "<path fill=\"none\" stroke=\"black\" stroke-dasharray=\"1,5\" d=\"M423.93,-179.37C408.76,-166.5 388.02,-148.91 372.55,-135.79\"/>\n",
       "</g>\n",
       "<!-- 8 -->\n",
       "<g id=\"node9\" class=\"node\">\n",
       "<title>8</title>\n",
       "<polygon fill=\"none\" stroke=\"black\" points=\"546.11,-134.61 400.11,-134.61 400.11,-98.61 546.11,-98.61 546.11,-134.61\"/>\n",
       "<text text-anchor=\"middle\" x=\"473.11\" y=\"-112.91\" font-family=\"Times New Roman,serif\" font-size=\"14.00\">keyword_title_data&lt;=0</text>\n",
       "</g>\n",
       "<!-- 5&#45;&#45;8 -->\n",
       "<g id=\"edge12\" class=\"edge\">\n",
       "<title>5&#45;&#45;8</title>\n",
       "<path fill=\"none\" stroke=\"black\" stroke-dasharray=\"1,5\" d=\"M450.41,-179.37C455.27,-166.14 461.97,-147.91 466.83,-134.69\"/>\n",
       "</g>\n",
       "<!-- 15 -->\n",
       "<g id=\"node16\" class=\"node\">\n",
       "<title>15</title>\n",
       "<polygon fill=\"none\" stroke=\"black\" points=\"678.11,-134.61 564.11,-134.61 564.11,-98.61 678.11,-98.61 678.11,-134.61\"/>\n",
       "<text text-anchor=\"middle\" x=\"621.11\" y=\"-112.91\" font-family=\"Times New Roman,serif\" font-size=\"14.00\">past_date&lt;=2494</text>\n",
       "</g>\n",
       "<!-- 6&#45;&#45;15 -->\n",
       "<g id=\"edge13\" class=\"edge\">\n",
       "<title>6&#45;&#45;15</title>\n",
       "<path fill=\"none\" stroke=\"black\" stroke-dasharray=\"1,5\" d=\"M621.11,-179.37C621.11,-166.14 621.11,-147.91 621.11,-134.69\"/>\n",
       "</g>\n",
       "<!-- 16 -->\n",
       "<g id=\"node17\" class=\"node\">\n",
       "<title>16</title>\n",
       "<ellipse fill=\"none\" stroke=\"black\" cx=\"727.11\" cy=\"-116.61\" rx=\"31.23\" ry=\"26.74\"/>\n",
       "<text text-anchor=\"middle\" x=\"727.11\" y=\"-120.41\" font-family=\"Times New Roman,serif\" font-size=\"14.00\">30up</text>\n",
       "<text text-anchor=\"middle\" x=\"727.11\" y=\"-105.41\" font-family=\"Times New Roman,serif\" font-size=\"14.00\">80%</text>\n",
       "</g>\n",
       "<!-- 6&#45;&#45;16 -->\n",
       "<g id=\"edge14\" class=\"edge\">\n",
       "<title>6&#45;&#45;16</title>\n",
       "<path fill=\"none\" stroke=\"black\" stroke-dasharray=\"1,5\" d=\"M644.11,-179.37C661.77,-166.23 686.05,-148.16 703.79,-134.96\"/>\n",
       "</g>\n",
       "<!-- 11 -->\n",
       "<g id=\"node12\" class=\"node\">\n",
       "<title>11</title>\n",
       "<polygon fill=\"yellow\" stroke=\"black\" points=\"441.11,-45.87 379.11,-45.87 379.11,-7.87 441.11,-7.87 441.11,-45.87\"/>\n",
       "<text text-anchor=\"middle\" x=\"410.11\" y=\"-30.67\" font-family=\"Times New Roman,serif\" font-size=\"14.00\">30down</text>\n",
       "<text text-anchor=\"middle\" x=\"410.11\" y=\"-15.67\" font-family=\"Times New Roman,serif\" font-size=\"14.00\">52%</text>\n",
       "</g>\n",
       "<!-- 8&#45;&#45;11 -->\n",
       "<g id=\"edge15\" class=\"edge\">\n",
       "<title>8&#45;&#45;11</title>\n",
       "<path fill=\"none\" stroke=\"black\" stroke-dasharray=\"1,5\" d=\"M460.67,-98.28C449.84,-83.19 434.19,-61.41 423.18,-46.07\"/>\n",
       "</g>\n",
       "<!-- 12 -->\n",
       "<g id=\"node13\" class=\"node\">\n",
       "<title>12</title>\n",
       "<ellipse fill=\"none\" stroke=\"black\" cx=\"490.11\" cy=\"-26.87\" rx=\"31.23\" ry=\"26.74\"/>\n",
       "<text text-anchor=\"middle\" x=\"490.11\" y=\"-30.67\" font-family=\"Times New Roman,serif\" font-size=\"14.00\">30up</text>\n",
       "<text text-anchor=\"middle\" x=\"490.11\" y=\"-15.67\" font-family=\"Times New Roman,serif\" font-size=\"14.00\">67%</text>\n",
       "</g>\n",
       "<!-- 8&#45;&#45;12 -->\n",
       "<g id=\"edge16\" class=\"edge\">\n",
       "<title>8&#45;&#45;12</title>\n",
       "<path fill=\"none\" stroke=\"black\" stroke-dasharray=\"1,5\" d=\"M476.47,-98.28C478.95,-85.49 482.36,-67.89 485.15,-53.48\"/>\n",
       "</g>\n",
       "<!-- 17 -->\n",
       "<g id=\"node18\" class=\"node\">\n",
       "<title>17</title>\n",
       "<ellipse fill=\"none\" stroke=\"black\" cx=\"604.11\" cy=\"-26.87\" rx=\"31.23\" ry=\"26.74\"/>\n",
       "<text text-anchor=\"middle\" x=\"604.11\" y=\"-30.67\" font-family=\"Times New Roman,serif\" font-size=\"14.00\">30up</text>\n",
       "<text text-anchor=\"middle\" x=\"604.11\" y=\"-15.67\" font-family=\"Times New Roman,serif\" font-size=\"14.00\">70%</text>\n",
       "</g>\n",
       "<!-- 15&#45;&#45;17 -->\n",
       "<g id=\"edge17\" class=\"edge\">\n",
       "<title>15&#45;&#45;17</title>\n",
       "<path fill=\"none\" stroke=\"black\" stroke-dasharray=\"1,5\" d=\"M617.75,-98.28C615.28,-85.49 611.87,-67.89 609.08,-53.48\"/>\n",
       "</g>\n",
       "<!-- 18 -->\n",
       "<g id=\"node19\" class=\"node\">\n",
       "<title>18</title>\n",
       "<ellipse fill=\"none\" stroke=\"black\" cx=\"684.11\" cy=\"-26.87\" rx=\"31.23\" ry=\"26.74\"/>\n",
       "<text text-anchor=\"middle\" x=\"684.11\" y=\"-30.67\" font-family=\"Times New Roman,serif\" font-size=\"14.00\">30up</text>\n",
       "<text text-anchor=\"middle\" x=\"684.11\" y=\"-15.67\" font-family=\"Times New Roman,serif\" font-size=\"14.00\">56%</text>\n",
       "</g>\n",
       "<!-- 15&#45;&#45;18 -->\n",
       "<g id=\"edge18\" class=\"edge\">\n",
       "<title>15&#45;&#45;18</title>\n",
       "<path fill=\"none\" stroke=\"black\" stroke-dasharray=\"1,5\" d=\"M633.56,-98.28C643.46,-84.49 657.37,-65.11 668.1,-50.17\"/>\n",
       "</g>\n",
       "</g>\n",
       "</svg>\n"
      ],
      "text/plain": [
       "<graphviz.sources.Source at 0x241315be100>"
      ]
     },
     "execution_count": 69,
     "metadata": {},
     "output_type": "execute_result"
    }
   ],
   "source": [
    "from func.decision_image import save_graph_as_svg\n",
    "\n",
    "save_graph_as_svg(dtc = dtc, X_train=X_train, X_predict = X_train.iloc[10].values.tolist(), output_file_name = '1111', directory = './')"
   ]
  },
  {
   "cell_type": "code",
   "execution_count": 70,
   "id": "9c5369e5",
   "metadata": {},
   "outputs": [
    {
     "data": {
      "text/plain": [
       "Index(['text_amount', 'keyword_mentioned', 'commentNum', 'keyword_title_data',\n",
       "       'link_num_data', 'player_num_data', 'img_num_data', 'past_date',\n",
       "       'five_day_visitor'],\n",
       "      dtype='object')"
      ]
     },
     "execution_count": 70,
     "metadata": {},
     "output_type": "execute_result"
    }
   ],
   "source": [
    "X_train.columns"
   ]
  },
  {
   "cell_type": "code",
   "execution_count": null,
   "id": "111ae1f3",
   "metadata": {},
   "outputs": [],
   "source": [
    "cols = ['본문길이','키워드 언급개수', '댓글개수', '제목에 키워드 포함', '링크 개수', '동영상 개수', '이미지 개수', '지난 게시일', '5일동안 방문자']"
   ]
  },
  {
   "cell_type": "code",
   "execution_count": null,
   "id": "728d5e3d",
   "metadata": {},
   "outputs": [],
   "source": []
  }
 ],
 "metadata": {
  "kernelspec": {
   "display_name": "Python 3 (ipykernel)",
   "language": "python",
   "name": "python3"
  },
  "language_info": {
   "codemirror_mode": {
    "name": "ipython",
    "version": 3
   },
   "file_extension": ".py",
   "mimetype": "text/x-python",
   "name": "python",
   "nbconvert_exporter": "python",
   "pygments_lexer": "ipython3",
   "version": "3.8.12"
  }
 },
 "nbformat": 4,
 "nbformat_minor": 5
}
